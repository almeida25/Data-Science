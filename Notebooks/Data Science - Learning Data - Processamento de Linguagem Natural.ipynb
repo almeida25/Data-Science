{
  "nbformat": 4,
  "nbformat_minor": 0,
  "metadata": {
    "colab": {
      "name": "Data Science - Classificação de Sentimantos com Spacy",
      "provenance": [],
      "collapsed_sections": []
    },
    "kernelspec": {
      "name": "python3",
      "display_name": "Python 3"
    },
    "language_info": {
      "name": "python"
    }
  },
  "cells": [
    {
      "cell_type": "markdown",
      "source": [
        "# Classificação de textos com spaCy"
      ],
      "metadata": {
        "id": "1A-okPqSGpCU"
      }
    },
    {
      "cell_type": "markdown",
      "source": [
        "# Etapa 1: Importação e instalação das bibliotecas"
      ],
      "metadata": {
        "id": "b4bDvkTrHARL"
      }
    },
    {
      "cell_type": "code",
      "source": [
        "import pandas as pd\n",
        "import string\n",
        "import spacy\n",
        "import random\n",
        "import seaborn as sns\n",
        "import numpy as np"
      ],
      "metadata": {
        "id": "93mazFZNHAxp"
      },
      "execution_count": 1,
      "outputs": []
    },
    {
      "cell_type": "code",
      "source": [
        "!python3 -m spacy download pt_core_news_sm"
      ],
      "metadata": {
        "colab": {
          "base_uri": "https://localhost:8080/"
        },
        "id": "9IvkLxkqK5qt",
        "outputId": "2c6df830-a866-4129-a4ce-8564d3aecb9c"
      },
      "execution_count": 2,
      "outputs": [
        {
          "output_type": "stream",
          "name": "stdout",
          "text": [
            "Looking in indexes: https://pypi.org/simple, https://us-python.pkg.dev/colab-wheels/public/simple/\n",
            "Collecting pt_core_news_sm==2.2.5\n",
            "  Downloading https://github.com/explosion/spacy-models/releases/download/pt_core_news_sm-2.2.5/pt_core_news_sm-2.2.5.tar.gz (21.2 MB)\n",
            "\u001b[K     |████████████████████████████████| 21.2 MB 2.3 MB/s \n",
            "\u001b[?25hRequirement already satisfied: spacy>=2.2.2 in /usr/local/lib/python3.7/dist-packages (from pt_core_news_sm==2.2.5) (2.2.3)\n",
            "Requirement already satisfied: plac<1.2.0,>=0.9.6 in /usr/local/lib/python3.7/dist-packages (from spacy>=2.2.2->pt_core_news_sm==2.2.5) (1.1.3)\n",
            "Requirement already satisfied: setuptools in /usr/local/lib/python3.7/dist-packages (from spacy>=2.2.2->pt_core_news_sm==2.2.5) (57.4.0)\n",
            "Requirement already satisfied: murmurhash<1.1.0,>=0.28.0 in /usr/local/lib/python3.7/dist-packages (from spacy>=2.2.2->pt_core_news_sm==2.2.5) (1.0.7)\n",
            "Requirement already satisfied: numpy>=1.15.0 in /usr/local/lib/python3.7/dist-packages (from spacy>=2.2.2->pt_core_news_sm==2.2.5) (1.21.6)\n",
            "Requirement already satisfied: catalogue<1.1.0,>=0.0.7 in /usr/local/lib/python3.7/dist-packages (from spacy>=2.2.2->pt_core_news_sm==2.2.5) (1.0.0)\n",
            "Requirement already satisfied: srsly<1.1.0,>=0.1.0 in /usr/local/lib/python3.7/dist-packages (from spacy>=2.2.2->pt_core_news_sm==2.2.5) (1.0.5)\n",
            "Requirement already satisfied: requests<3.0.0,>=2.13.0 in /usr/local/lib/python3.7/dist-packages (from spacy>=2.2.2->pt_core_news_sm==2.2.5) (2.23.0)\n",
            "Requirement already satisfied: preshed<3.1.0,>=3.0.2 in /usr/local/lib/python3.7/dist-packages (from spacy>=2.2.2->pt_core_news_sm==2.2.5) (3.0.6)\n",
            "Requirement already satisfied: blis<0.5.0,>=0.4.0 in /usr/local/lib/python3.7/dist-packages (from spacy>=2.2.2->pt_core_news_sm==2.2.5) (0.4.1)\n",
            "Requirement already satisfied: cymem<2.1.0,>=2.0.2 in /usr/local/lib/python3.7/dist-packages (from spacy>=2.2.2->pt_core_news_sm==2.2.5) (2.0.6)\n",
            "Requirement already satisfied: wasabi<1.1.0,>=0.4.0 in /usr/local/lib/python3.7/dist-packages (from spacy>=2.2.2->pt_core_news_sm==2.2.5) (0.9.1)\n",
            "Requirement already satisfied: thinc<7.4.0,>=7.3.0 in /usr/local/lib/python3.7/dist-packages (from spacy>=2.2.2->pt_core_news_sm==2.2.5) (7.3.1)\n",
            "Requirement already satisfied: importlib-metadata>=0.20 in /usr/local/lib/python3.7/dist-packages (from catalogue<1.1.0,>=0.0.7->spacy>=2.2.2->pt_core_news_sm==2.2.5) (4.12.0)\n",
            "Requirement already satisfied: typing-extensions>=3.6.4 in /usr/local/lib/python3.7/dist-packages (from importlib-metadata>=0.20->catalogue<1.1.0,>=0.0.7->spacy>=2.2.2->pt_core_news_sm==2.2.5) (4.1.1)\n",
            "Requirement already satisfied: zipp>=0.5 in /usr/local/lib/python3.7/dist-packages (from importlib-metadata>=0.20->catalogue<1.1.0,>=0.0.7->spacy>=2.2.2->pt_core_news_sm==2.2.5) (3.8.1)\n",
            "Requirement already satisfied: urllib3!=1.25.0,!=1.25.1,<1.26,>=1.21.1 in /usr/local/lib/python3.7/dist-packages (from requests<3.0.0,>=2.13.0->spacy>=2.2.2->pt_core_news_sm==2.2.5) (1.24.3)\n",
            "Requirement already satisfied: idna<3,>=2.5 in /usr/local/lib/python3.7/dist-packages (from requests<3.0.0,>=2.13.0->spacy>=2.2.2->pt_core_news_sm==2.2.5) (2.10)\n",
            "Requirement already satisfied: certifi>=2017.4.17 in /usr/local/lib/python3.7/dist-packages (from requests<3.0.0,>=2.13.0->spacy>=2.2.2->pt_core_news_sm==2.2.5) (2022.6.15)\n",
            "Requirement already satisfied: chardet<4,>=3.0.2 in /usr/local/lib/python3.7/dist-packages (from requests<3.0.0,>=2.13.0->spacy>=2.2.2->pt_core_news_sm==2.2.5) (3.0.4)\n",
            "Requirement already satisfied: tqdm<5.0.0,>=4.10.0 in /usr/local/lib/python3.7/dist-packages (from thinc<7.4.0,>=7.3.0->spacy>=2.2.2->pt_core_news_sm==2.2.5) (4.64.0)\n",
            "\u001b[38;5;2m✔ Download and installation successful\u001b[0m\n",
            "You can now load the model via spacy.load('pt_core_news_sm')\n"
          ]
        }
      ]
    },
    {
      "cell_type": "code",
      "source": [
        "#!pip install --upgrade spacy"
      ],
      "metadata": {
        "id": "pi-EDUk9LKi0"
      },
      "execution_count": 3,
      "outputs": []
    },
    {
      "cell_type": "markdown",
      "source": [
        "# Etapa 2: Carregamento da base de dados"
      ],
      "metadata": {
        "id": "W-XprI5LIfS3"
      }
    },
    {
      "cell_type": "code",
      "source": [
        "base_dados = pd.read_csv('/content/base_treinamento.txt', encoding = 'utf-8')"
      ],
      "metadata": {
        "id": "J9NwbbE_HHrj"
      },
      "execution_count": 4,
      "outputs": []
    },
    {
      "cell_type": "code",
      "source": [
        "base_dados.shape"
      ],
      "metadata": {
        "colab": {
          "base_uri": "https://localhost:8080/"
        },
        "id": "lbp5WQ3xIiLk",
        "outputId": "b6cf9b1a-d5e3-4056-f999-f403d422c3f5"
      },
      "execution_count": 5,
      "outputs": [
        {
          "output_type": "execute_result",
          "data": {
            "text/plain": [
              "(196, 2)"
            ]
          },
          "metadata": {},
          "execution_count": 5
        }
      ]
    },
    {
      "cell_type": "code",
      "source": [
        "base_dados.head()"
      ],
      "metadata": {
        "colab": {
          "base_uri": "https://localhost:8080/",
          "height": 206
        },
        "id": "CdNPMDkoJJU7",
        "outputId": "91dcd3fd-cae4-4c06-a726-61371e47cf9d"
      },
      "execution_count": 6,
      "outputs": [
        {
          "output_type": "execute_result",
          "data": {
            "text/plain": [
              "                             texto   emocao\n",
              "0        este trabalho é agradável  alegria\n",
              "1  gosto de ficar no seu aconchego  alegria\n",
              "2       fiz a adesão ao curso hoje  alegria\n",
              "3       eu sou admirada por muitos  alegria\n",
              "4                  adoro como você  alegria"
            ],
            "text/html": [
              "\n",
              "  <div id=\"df-e8866041-f5fa-4c7d-b602-9c4bfd315777\">\n",
              "    <div class=\"colab-df-container\">\n",
              "      <div>\n",
              "<style scoped>\n",
              "    .dataframe tbody tr th:only-of-type {\n",
              "        vertical-align: middle;\n",
              "    }\n",
              "\n",
              "    .dataframe tbody tr th {\n",
              "        vertical-align: top;\n",
              "    }\n",
              "\n",
              "    .dataframe thead th {\n",
              "        text-align: right;\n",
              "    }\n",
              "</style>\n",
              "<table border=\"1\" class=\"dataframe\">\n",
              "  <thead>\n",
              "    <tr style=\"text-align: right;\">\n",
              "      <th></th>\n",
              "      <th>texto</th>\n",
              "      <th>emocao</th>\n",
              "    </tr>\n",
              "  </thead>\n",
              "  <tbody>\n",
              "    <tr>\n",
              "      <th>0</th>\n",
              "      <td>este trabalho é agradável</td>\n",
              "      <td>alegria</td>\n",
              "    </tr>\n",
              "    <tr>\n",
              "      <th>1</th>\n",
              "      <td>gosto de ficar no seu aconchego</td>\n",
              "      <td>alegria</td>\n",
              "    </tr>\n",
              "    <tr>\n",
              "      <th>2</th>\n",
              "      <td>fiz a adesão ao curso hoje</td>\n",
              "      <td>alegria</td>\n",
              "    </tr>\n",
              "    <tr>\n",
              "      <th>3</th>\n",
              "      <td>eu sou admirada por muitos</td>\n",
              "      <td>alegria</td>\n",
              "    </tr>\n",
              "    <tr>\n",
              "      <th>4</th>\n",
              "      <td>adoro como você</td>\n",
              "      <td>alegria</td>\n",
              "    </tr>\n",
              "  </tbody>\n",
              "</table>\n",
              "</div>\n",
              "      <button class=\"colab-df-convert\" onclick=\"convertToInteractive('df-e8866041-f5fa-4c7d-b602-9c4bfd315777')\"\n",
              "              title=\"Convert this dataframe to an interactive table.\"\n",
              "              style=\"display:none;\">\n",
              "        \n",
              "  <svg xmlns=\"http://www.w3.org/2000/svg\" height=\"24px\"viewBox=\"0 0 24 24\"\n",
              "       width=\"24px\">\n",
              "    <path d=\"M0 0h24v24H0V0z\" fill=\"none\"/>\n",
              "    <path d=\"M18.56 5.44l.94 2.06.94-2.06 2.06-.94-2.06-.94-.94-2.06-.94 2.06-2.06.94zm-11 1L8.5 8.5l.94-2.06 2.06-.94-2.06-.94L8.5 2.5l-.94 2.06-2.06.94zm10 10l.94 2.06.94-2.06 2.06-.94-2.06-.94-.94-2.06-.94 2.06-2.06.94z\"/><path d=\"M17.41 7.96l-1.37-1.37c-.4-.4-.92-.59-1.43-.59-.52 0-1.04.2-1.43.59L10.3 9.45l-7.72 7.72c-.78.78-.78 2.05 0 2.83L4 21.41c.39.39.9.59 1.41.59.51 0 1.02-.2 1.41-.59l7.78-7.78 2.81-2.81c.8-.78.8-2.07 0-2.86zM5.41 20L4 18.59l7.72-7.72 1.47 1.35L5.41 20z\"/>\n",
              "  </svg>\n",
              "      </button>\n",
              "      \n",
              "  <style>\n",
              "    .colab-df-container {\n",
              "      display:flex;\n",
              "      flex-wrap:wrap;\n",
              "      gap: 12px;\n",
              "    }\n",
              "\n",
              "    .colab-df-convert {\n",
              "      background-color: #E8F0FE;\n",
              "      border: none;\n",
              "      border-radius: 50%;\n",
              "      cursor: pointer;\n",
              "      display: none;\n",
              "      fill: #1967D2;\n",
              "      height: 32px;\n",
              "      padding: 0 0 0 0;\n",
              "      width: 32px;\n",
              "    }\n",
              "\n",
              "    .colab-df-convert:hover {\n",
              "      background-color: #E2EBFA;\n",
              "      box-shadow: 0px 1px 2px rgba(60, 64, 67, 0.3), 0px 1px 3px 1px rgba(60, 64, 67, 0.15);\n",
              "      fill: #174EA6;\n",
              "    }\n",
              "\n",
              "    [theme=dark] .colab-df-convert {\n",
              "      background-color: #3B4455;\n",
              "      fill: #D2E3FC;\n",
              "    }\n",
              "\n",
              "    [theme=dark] .colab-df-convert:hover {\n",
              "      background-color: #434B5C;\n",
              "      box-shadow: 0px 1px 3px 1px rgba(0, 0, 0, 0.15);\n",
              "      filter: drop-shadow(0px 1px 2px rgba(0, 0, 0, 0.3));\n",
              "      fill: #FFFFFF;\n",
              "    }\n",
              "  </style>\n",
              "\n",
              "      <script>\n",
              "        const buttonEl =\n",
              "          document.querySelector('#df-e8866041-f5fa-4c7d-b602-9c4bfd315777 button.colab-df-convert');\n",
              "        buttonEl.style.display =\n",
              "          google.colab.kernel.accessAllowed ? 'block' : 'none';\n",
              "\n",
              "        async function convertToInteractive(key) {\n",
              "          const element = document.querySelector('#df-e8866041-f5fa-4c7d-b602-9c4bfd315777');\n",
              "          const dataTable =\n",
              "            await google.colab.kernel.invokeFunction('convertToInteractive',\n",
              "                                                     [key], {});\n",
              "          if (!dataTable) return;\n",
              "\n",
              "          const docLinkHtml = 'Like what you see? Visit the ' +\n",
              "            '<a target=\"_blank\" href=https://colab.research.google.com/notebooks/data_table.ipynb>data table notebook</a>'\n",
              "            + ' to learn more about interactive tables.';\n",
              "          element.innerHTML = '';\n",
              "          dataTable['output_type'] = 'display_data';\n",
              "          await google.colab.output.renderOutput(dataTable, element);\n",
              "          const docLink = document.createElement('div');\n",
              "          docLink.innerHTML = docLinkHtml;\n",
              "          element.appendChild(docLink);\n",
              "        }\n",
              "      </script>\n",
              "    </div>\n",
              "  </div>\n",
              "  "
            ]
          },
          "metadata": {},
          "execution_count": 6
        }
      ]
    },
    {
      "cell_type": "code",
      "source": [
        "base_dados.tail()"
      ],
      "metadata": {
        "colab": {
          "base_uri": "https://localhost:8080/",
          "height": 206
        },
        "id": "ZBWU0hLGJRvA",
        "outputId": "68026439-f3a8-4e93-e32f-4d621c183dc1"
      },
      "execution_count": 7,
      "outputs": [
        {
          "output_type": "execute_result",
          "data": {
            "text/plain": [
              "                                                 texto emocao\n",
              "191  estou chocado e amedrontado com este assassina...   medo\n",
              "192  é preciso afugenta com ímpeto este medo do inf...   medo\n",
              "193  políticos usam suas forças para afugentar e am...   medo\n",
              "194       o objetivo disso e apenas me amedrontar mais   medo\n",
              "195                                    isso me apavora   medo"
            ],
            "text/html": [
              "\n",
              "  <div id=\"df-5ba46461-f757-4fd6-b890-9fb42ac95351\">\n",
              "    <div class=\"colab-df-container\">\n",
              "      <div>\n",
              "<style scoped>\n",
              "    .dataframe tbody tr th:only-of-type {\n",
              "        vertical-align: middle;\n",
              "    }\n",
              "\n",
              "    .dataframe tbody tr th {\n",
              "        vertical-align: top;\n",
              "    }\n",
              "\n",
              "    .dataframe thead th {\n",
              "        text-align: right;\n",
              "    }\n",
              "</style>\n",
              "<table border=\"1\" class=\"dataframe\">\n",
              "  <thead>\n",
              "    <tr style=\"text-align: right;\">\n",
              "      <th></th>\n",
              "      <th>texto</th>\n",
              "      <th>emocao</th>\n",
              "    </tr>\n",
              "  </thead>\n",
              "  <tbody>\n",
              "    <tr>\n",
              "      <th>191</th>\n",
              "      <td>estou chocado e amedrontado com este assassina...</td>\n",
              "      <td>medo</td>\n",
              "    </tr>\n",
              "    <tr>\n",
              "      <th>192</th>\n",
              "      <td>é preciso afugenta com ímpeto este medo do inf...</td>\n",
              "      <td>medo</td>\n",
              "    </tr>\n",
              "    <tr>\n",
              "      <th>193</th>\n",
              "      <td>políticos usam suas forças para afugentar e am...</td>\n",
              "      <td>medo</td>\n",
              "    </tr>\n",
              "    <tr>\n",
              "      <th>194</th>\n",
              "      <td>o objetivo disso e apenas me amedrontar mais</td>\n",
              "      <td>medo</td>\n",
              "    </tr>\n",
              "    <tr>\n",
              "      <th>195</th>\n",
              "      <td>isso me apavora</td>\n",
              "      <td>medo</td>\n",
              "    </tr>\n",
              "  </tbody>\n",
              "</table>\n",
              "</div>\n",
              "      <button class=\"colab-df-convert\" onclick=\"convertToInteractive('df-5ba46461-f757-4fd6-b890-9fb42ac95351')\"\n",
              "              title=\"Convert this dataframe to an interactive table.\"\n",
              "              style=\"display:none;\">\n",
              "        \n",
              "  <svg xmlns=\"http://www.w3.org/2000/svg\" height=\"24px\"viewBox=\"0 0 24 24\"\n",
              "       width=\"24px\">\n",
              "    <path d=\"M0 0h24v24H0V0z\" fill=\"none\"/>\n",
              "    <path d=\"M18.56 5.44l.94 2.06.94-2.06 2.06-.94-2.06-.94-.94-2.06-.94 2.06-2.06.94zm-11 1L8.5 8.5l.94-2.06 2.06-.94-2.06-.94L8.5 2.5l-.94 2.06-2.06.94zm10 10l.94 2.06.94-2.06 2.06-.94-2.06-.94-.94-2.06-.94 2.06-2.06.94z\"/><path d=\"M17.41 7.96l-1.37-1.37c-.4-.4-.92-.59-1.43-.59-.52 0-1.04.2-1.43.59L10.3 9.45l-7.72 7.72c-.78.78-.78 2.05 0 2.83L4 21.41c.39.39.9.59 1.41.59.51 0 1.02-.2 1.41-.59l7.78-7.78 2.81-2.81c.8-.78.8-2.07 0-2.86zM5.41 20L4 18.59l7.72-7.72 1.47 1.35L5.41 20z\"/>\n",
              "  </svg>\n",
              "      </button>\n",
              "      \n",
              "  <style>\n",
              "    .colab-df-container {\n",
              "      display:flex;\n",
              "      flex-wrap:wrap;\n",
              "      gap: 12px;\n",
              "    }\n",
              "\n",
              "    .colab-df-convert {\n",
              "      background-color: #E8F0FE;\n",
              "      border: none;\n",
              "      border-radius: 50%;\n",
              "      cursor: pointer;\n",
              "      display: none;\n",
              "      fill: #1967D2;\n",
              "      height: 32px;\n",
              "      padding: 0 0 0 0;\n",
              "      width: 32px;\n",
              "    }\n",
              "\n",
              "    .colab-df-convert:hover {\n",
              "      background-color: #E2EBFA;\n",
              "      box-shadow: 0px 1px 2px rgba(60, 64, 67, 0.3), 0px 1px 3px 1px rgba(60, 64, 67, 0.15);\n",
              "      fill: #174EA6;\n",
              "    }\n",
              "\n",
              "    [theme=dark] .colab-df-convert {\n",
              "      background-color: #3B4455;\n",
              "      fill: #D2E3FC;\n",
              "    }\n",
              "\n",
              "    [theme=dark] .colab-df-convert:hover {\n",
              "      background-color: #434B5C;\n",
              "      box-shadow: 0px 1px 3px 1px rgba(0, 0, 0, 0.15);\n",
              "      filter: drop-shadow(0px 1px 2px rgba(0, 0, 0, 0.3));\n",
              "      fill: #FFFFFF;\n",
              "    }\n",
              "  </style>\n",
              "\n",
              "      <script>\n",
              "        const buttonEl =\n",
              "          document.querySelector('#df-5ba46461-f757-4fd6-b890-9fb42ac95351 button.colab-df-convert');\n",
              "        buttonEl.style.display =\n",
              "          google.colab.kernel.accessAllowed ? 'block' : 'none';\n",
              "\n",
              "        async function convertToInteractive(key) {\n",
              "          const element = document.querySelector('#df-5ba46461-f757-4fd6-b890-9fb42ac95351');\n",
              "          const dataTable =\n",
              "            await google.colab.kernel.invokeFunction('convertToInteractive',\n",
              "                                                     [key], {});\n",
              "          if (!dataTable) return;\n",
              "\n",
              "          const docLinkHtml = 'Like what you see? Visit the ' +\n",
              "            '<a target=\"_blank\" href=https://colab.research.google.com/notebooks/data_table.ipynb>data table notebook</a>'\n",
              "            + ' to learn more about interactive tables.';\n",
              "          element.innerHTML = '';\n",
              "          dataTable['output_type'] = 'display_data';\n",
              "          await google.colab.output.renderOutput(dataTable, element);\n",
              "          const docLink = document.createElement('div');\n",
              "          docLink.innerHTML = docLinkHtml;\n",
              "          element.appendChild(docLink);\n",
              "        }\n",
              "      </script>\n",
              "    </div>\n",
              "  </div>\n",
              "  "
            ]
          },
          "metadata": {},
          "execution_count": 7
        }
      ]
    },
    {
      "cell_type": "code",
      "source": [
        "sns.countplot(base_dados['emocao'], label = 'Contagem');"
      ],
      "metadata": {
        "colab": {
          "base_uri": "https://localhost:8080/",
          "height": 335
        },
        "id": "o2wGT9zHJVeg",
        "outputId": "0d2d6cb6-a805-4ae5-a81e-83a0263abc96"
      },
      "execution_count": 8,
      "outputs": [
        {
          "output_type": "stream",
          "name": "stderr",
          "text": [
            "/usr/local/lib/python3.7/dist-packages/seaborn/_decorators.py:43: FutureWarning: Pass the following variable as a keyword arg: x. From version 0.12, the only valid positional argument will be `data`, and passing other arguments without an explicit keyword will result in an error or misinterpretation.\n",
            "  FutureWarning\n"
          ]
        },
        {
          "output_type": "display_data",
          "data": {
            "text/plain": [
              "<Figure size 432x288 with 1 Axes>"
            ],
            "image/png": "[encoded data removed]"
          },
          "metadata": {
            "needs_background": "light"
          }
        }
      ]
    },
    {
      "cell_type": "markdown",
      "source": [
        "# Função para pré-processamento dos Textos"
      ],
      "metadata": {
        "id": "MiuBAiXrKRKf"
      }
    },
    {
      "cell_type": "code",
      "source": [
        "pontuacoes = string.punctuation\n",
        "pontuacoes"
      ],
      "metadata": {
        "colab": {
          "base_uri": "https://localhost:8080/",
          "height": 36
        },
        "id": "GGZiU2qnJenh",
        "outputId": "8fff0080-88d0-4212-d22b-dbb7e8168c99"
      },
      "execution_count": 9,
      "outputs": [
        {
          "output_type": "execute_result",
          "data": {
            "text/plain": [
              "'!\"#$%&\\'()*+,-./:;<=>?@[\\\\]^_`{|}~'"
            ],
            "application/vnd.google.colaboratory.intrinsic+json": {
              "type": "string"
            }
          },
          "metadata": {},
          "execution_count": 9
        }
      ]
    },
    {
      "cell_type": "code",
      "source": [
        "from spacy.lang.pt.stop_words import STOP_WORDS\n",
        "stop_words = STOP_WORDS"
      ],
      "metadata": {
        "id": "5tEZxp6NKZTT"
      },
      "execution_count": 10,
      "outputs": []
    },
    {
      "cell_type": "code",
      "source": [
        "print(stop_words)"
      ],
      "metadata": {
        "colab": {
          "base_uri": "https://localhost:8080/"
        },
        "id": "8XpPjvE6Kj48",
        "outputId": "7df7e05f-6062-4966-f1a9-59c3f1d3a985"
      },
      "execution_count": 11,
      "outputs": [
        {
          "output_type": "stream",
          "name": "stdout",
          "text": [
            "{'área', 'um', 'outra', 'grupo', 'tens', 'seu', 'quinze', 'sem', 'pouca', 'estas', 'grandes', 'naquele', 'aquele', 'dezoito', 'lá', 'estado', 'próprio', 'estava', 'quarta', 'és', 'pôde', 'caminho', 'falta', 'pela', 'ademais', 'vez', 'pode', 'sois', 'dão', 'fazia', 'obrigado', 'segunda', 'já', 'nesta', 'outras', 'atrás', 'poderá', 'tanta', 'fazer', 'eles', 'quer', 'aos', 'estes', 'somente', 'tentaram', 'aqueles', 'talvez', 'quatro', 'desse', 'onze', 'nas', 'zero', 'se', 'da', 'meses', 'dos', 'te', 'são', 'umas', 'vossas', 'que', 'vezes', 'apontar', 'sua', 'sob', 'vós', 'maior', 'na', 'nível', 'dizer', 'geral', 'certamente', 'estar', 'teus', 'ser', 'dá', 'novo', 'posso', 'maioria', 'dezasseis', 'ver', 'aquela', 'quê', 'portanto', 'só', 'estão', 'esse', 'mil', 'os', 'pouco', 'seria', 'nem', 'meus', 'favor', 'muito', 'cento', 'questão', 'ir', 'baixo', 'custa', 'fim', 'essa', 'cujo', 'mês', 'nossa', 'seus', 'menor', 'onde', 'nuns', 'terceiro', 'nove', 'cima', 'tudo', 'deve', 'dizem', 'coisa', 'as', 'podia', 'disso', 'primeiro', 'usa', 'estiveram', 'pegar', 'elas', 'outros', 'irá', 'pelas', 'parece', 'querem', 'do', 'nada', 'nossos', 'para', 'quais', 'quarto', 'quieta', 'também', 'inclusive', 'comprida', 'fazem', 'tipo', 'sobre', 'diante', 'porquanto', 'dois', 'por', 'quinto', 'porque', 'povo', 'ali', 'contudo', 'eventual', 'final', 'num', 'fomos', 'inicio', 'à', 'estás', 'fazeis', 'quem', 'corrente', 'forma', 'ambas', 'neste', 'cedo', 'teve', 'tiveram', 'todos', 'nos', 'algo', 'minha', 'você', 'saber', 'vão', 'máximo', 'põe', 'através', 'conselho', 'segundo', 'isso', 'usar', 'cada', 'bem', 'diz', 'daquele', 'comprido', 'no', 'esta', 'tem', 'seis', 'vindo', 'vosso', 'contra', 'meio', 'oitava', 'quando', 'esteve', 'essas', 'cuja', 'novas', 'fora', 'foi', 'mal', 'tive', 'meu', 'novos', 'algumas', 'faz', 'ora', 'têm', 'daquela', 'quero', 'possível', 'ainda', 'tivemos', 'quieto', 'debaixo', 'uma', 'podem', 'tivestes', 'estivemos', 'sistema', 'das', 'ou', 'aquelas', 'fostes', 'des', 'bom', 'deste', 'entre', 'me', 'treze', 'adeus', 'nessa', 'partir', 'tiveste', 'tua', 'desde', 'quinta', 'todas', 'ponto', 'ontem', 'momento', 'além', 'numa', 'tu', 'possivelmente', 'eu', 'cinco', 'logo', 'estará', 'estive', 'longe', 'conhecida', 'às', 'dessa', 'esses', 'puderam', 'poder', 'estivestes', 'fazes', 'antes', 'porém', 'relação', 'isto', 'sete', 'obrigada', 'tentar', 'apoia', 'fui', 'tenho', 'demais', 'tanto', 'toda', 'vocês', 'suas', 'primeira', 'vêm', 'até', 'minhas', 'estiveste', 'tão', 'faço', 'nunca', 'alguns', 'embora', 'ele', 'último', 'dar', 'nossas', 'terceira', 'cá', 'tente', 'tais', 'lado', 'doze', 'teu', 'uns', 'oito', 'pois', 'nós', 'tentei', 'bastante', 'todo', 'porquê', 'apenas', 'grande', 'vinda', 'sexto', 'pelo', 'dezanove', 'enquanto', 'boa', 'conhecido', 'lhe', 'devem', 'como', 'nenhuma', 'fez', 'catorze', 'vinte', 'local', 'ela', 'ambos', 'valor', 'mais', 'parte', 'ter', 'vai', 'após', 'desta', 'é', 'vossa', 'números', 'põem', 'pontos', 'tarde', 'sou', 'aí', 'três', 'exemplo', 'próximo', 'qualquer', 'nosso', 'fará', 'muitos', 'iniciar', 'maiorias', 'ligado', 'dez', 'tendes', 'sexta', 'tempo', 'vários', 'oitavo', 'mesmo', 'de', 'aquilo', 'em', 'estou', 'sabe', 'então', 'não', 'sim', 'mas', 'for', 'veja', 'tal', 'sempre', 'ao', 'fazemos', 'está', 'direita', 'este', 'certeza', 'depois', 'vais', 'sei', 'somos', 'nesse', 'próxima', 'posição', 'tuas', 'foste', 'sétima', 'breve', 'foram', 'agora', 'nova', 'duas', 'número', 'pelos', 'vos', 'dezassete', 'com', 'perto', 'menos', 'era', 'temos', 'naquela', 'deverá', 'acerca', 'assim', 'dentro', 'sétimo', 'vem', 'qual', 'vossos', 'quanto', 'vens', 'aqui', 'apoio', 'lugar'}\n"
          ]
        }
      ]
    },
    {
      "cell_type": "code",
      "source": [
        "len(stop_words)"
      ],
      "metadata": {
        "colab": {
          "base_uri": "https://localhost:8080/"
        },
        "id": "zJzF6d7FKk5b",
        "outputId": "721a31fe-45b9-47f3-b649-6760af686432"
      },
      "execution_count": 12,
      "outputs": [
        {
          "output_type": "execute_result",
          "data": {
            "text/plain": [
              "413"
            ]
          },
          "metadata": {},
          "execution_count": 12
        }
      ]
    },
    {
      "cell_type": "code",
      "source": [
        "pln = spacy.load('pt_core_news_sm')"
      ],
      "metadata": {
        "id": "T4K_sMSWKpfG"
      },
      "execution_count": 13,
      "outputs": []
    },
    {
      "cell_type": "code",
      "source": [
        "pln"
      ],
      "metadata": {
        "colab": {
          "base_uri": "https://localhost:8080/"
        },
        "id": "ew-GujPQKzJN",
        "outputId": "d8734eed-9a87-4885-9c29-b1b83d7a8fca"
      },
      "execution_count": 14,
      "outputs": [
        {
          "output_type": "execute_result",
          "data": {
            "text/plain": [
              "<spacy.lang.pt.Portuguese at 0x7fdc9bed5f50>"
            ]
          },
          "metadata": {},
          "execution_count": 14
        }
      ]
    },
    {
      "cell_type": "code",
      "source": [
        "def pre_processamento(texto):\n",
        "  texto = texto.lower()\n",
        "  documento = pln(texto)\n",
        "  lista = []\n",
        "  for token in documento:\n",
        "    #lista.append(token.text)\n",
        "    lista.append(token.lemma_)\n",
        "\n",
        "  lista = [palavra for palavra in lista if palavra not in stop_words and palavra not in pontuacoes]\n",
        "  lista = ' '.join([str(elemento) for elemento in lista if not elemento.isdigit()])\n",
        "  return lista"
      ],
      "metadata": {
        "id": "vbEoB-PpMQnZ"
      },
      "execution_count": 15,
      "outputs": []
    },
    {
      "cell_type": "code",
      "source": [
        "teste = pre_processamento('Estou aprendendo processamento 1 10 23 de linguagem natural, curso em Rio de Janeiro')\n",
        "teste"
      ],
      "metadata": {
        "colab": {
          "base_uri": "https://localhost:8080/",
          "height": 36
        },
        "id": "N2dz8hx8MUdh",
        "outputId": "7c04afdb-1e59-484c-bc24-14a0aba58d2a"
      },
      "execution_count": 16,
      "outputs": [
        {
          "output_type": "execute_result",
          "data": {
            "text/plain": [
              "'aprender processamento linguagem natural cursar rir janeiro'"
            ],
            "application/vnd.google.colaboratory.intrinsic+json": {
              "type": "string"
            }
          },
          "metadata": {},
          "execution_count": 16
        }
      ]
    },
    {
      "cell_type": "markdown",
      "source": [
        "# Pré-processamento da base de dados"
      ],
      "metadata": {
        "id": "zFy71PHc3HxU"
      }
    },
    {
      "cell_type": "markdown",
      "source": [
        "## Limpeza dos textos"
      ],
      "metadata": {
        "id": "BhTk2yFR3Ng0"
      }
    },
    {
      "cell_type": "code",
      "source": [
        "base_dados.head()"
      ],
      "metadata": {
        "colab": {
          "base_uri": "https://localhost:8080/",
          "height": 206
        },
        "id": "_L1uMaFrMsyI",
        "outputId": "3acf977c-76eb-4fb6-f3d8-2b69bc0c013d"
      },
      "execution_count": 17,
      "outputs": [
        {
          "output_type": "execute_result",
          "data": {
            "text/plain": [
              "                             texto   emocao\n",
              "0        este trabalho é agradável  alegria\n",
              "1  gosto de ficar no seu aconchego  alegria\n",
              "2       fiz a adesão ao curso hoje  alegria\n",
              "3       eu sou admirada por muitos  alegria\n",
              "4                  adoro como você  alegria"
            ],
            "text/html": [
              "\n",
              "  <div id=\"df-50bf2448-4f74-4869-804b-c94fc5a3d2fd\">\n",
              "    <div class=\"colab-df-container\">\n",
              "      <div>\n",
              "<style scoped>\n",
              "    .dataframe tbody tr th:only-of-type {\n",
              "        vertical-align: middle;\n",
              "    }\n",
              "\n",
              "    .dataframe tbody tr th {\n",
              "        vertical-align: top;\n",
              "    }\n",
              "\n",
              "    .dataframe thead th {\n",
              "        text-align: right;\n",
              "    }\n",
              "</style>\n",
              "<table border=\"1\" class=\"dataframe\">\n",
              "  <thead>\n",
              "    <tr style=\"text-align: right;\">\n",
              "      <th></th>\n",
              "      <th>texto</th>\n",
              "      <th>emocao</th>\n",
              "    </tr>\n",
              "  </thead>\n",
              "  <tbody>\n",
              "    <tr>\n",
              "      <th>0</th>\n",
              "      <td>este trabalho é agradável</td>\n",
              "      <td>alegria</td>\n",
              "    </tr>\n",
              "    <tr>\n",
              "      <th>1</th>\n",
              "      <td>gosto de ficar no seu aconchego</td>\n",
              "      <td>alegria</td>\n",
              "    </tr>\n",
              "    <tr>\n",
              "      <th>2</th>\n",
              "      <td>fiz a adesão ao curso hoje</td>\n",
              "      <td>alegria</td>\n",
              "    </tr>\n",
              "    <tr>\n",
              "      <th>3</th>\n",
              "      <td>eu sou admirada por muitos</td>\n",
              "      <td>alegria</td>\n",
              "    </tr>\n",
              "    <tr>\n",
              "      <th>4</th>\n",
              "      <td>adoro como você</td>\n",
              "      <td>alegria</td>\n",
              "    </tr>\n",
              "  </tbody>\n",
              "</table>\n",
              "</div>\n",
              "      <button class=\"colab-df-convert\" onclick=\"convertToInteractive('df-50bf2448-4f74-4869-804b-c94fc5a3d2fd')\"\n",
              "              title=\"Convert this dataframe to an interactive table.\"\n",
              "              style=\"display:none;\">\n",
              "        \n",
              "  <svg xmlns=\"http://www.w3.org/2000/svg\" height=\"24px\"viewBox=\"0 0 24 24\"\n",
              "       width=\"24px\">\n",
              "    <path d=\"M0 0h24v24H0V0z\" fill=\"none\"/>\n",
              "    <path d=\"M18.56 5.44l.94 2.06.94-2.06 2.06-.94-2.06-.94-.94-2.06-.94 2.06-2.06.94zm-11 1L8.5 8.5l.94-2.06 2.06-.94-2.06-.94L8.5 2.5l-.94 2.06-2.06.94zm10 10l.94 2.06.94-2.06 2.06-.94-2.06-.94-.94-2.06-.94 2.06-2.06.94z\"/><path d=\"M17.41 7.96l-1.37-1.37c-.4-.4-.92-.59-1.43-.59-.52 0-1.04.2-1.43.59L10.3 9.45l-7.72 7.72c-.78.78-.78 2.05 0 2.83L4 21.41c.39.39.9.59 1.41.59.51 0 1.02-.2 1.41-.59l7.78-7.78 2.81-2.81c.8-.78.8-2.07 0-2.86zM5.41 20L4 18.59l7.72-7.72 1.47 1.35L5.41 20z\"/>\n",
              "  </svg>\n",
              "      </button>\n",
              "      \n",
              "  <style>\n",
              "    .colab-df-container {\n",
              "      display:flex;\n",
              "      flex-wrap:wrap;\n",
              "      gap: 12px;\n",
              "    }\n",
              "\n",
              "    .colab-df-convert {\n",
              "      background-color: #E8F0FE;\n",
              "      border: none;\n",
              "      border-radius: 50%;\n",
              "      cursor: pointer;\n",
              "      display: none;\n",
              "      fill: #1967D2;\n",
              "      height: 32px;\n",
              "      padding: 0 0 0 0;\n",
              "      width: 32px;\n",
              "    }\n",
              "\n",
              "    .colab-df-convert:hover {\n",
              "      background-color: #E2EBFA;\n",
              "      box-shadow: 0px 1px 2px rgba(60, 64, 67, 0.3), 0px 1px 3px 1px rgba(60, 64, 67, 0.15);\n",
              "      fill: #174EA6;\n",
              "    }\n",
              "\n",
              "    [theme=dark] .colab-df-convert {\n",
              "      background-color: #3B4455;\n",
              "      fill: #D2E3FC;\n",
              "    }\n",
              "\n",
              "    [theme=dark] .colab-df-convert:hover {\n",
              "      background-color: #434B5C;\n",
              "      box-shadow: 0px 1px 3px 1px rgba(0, 0, 0, 0.15);\n",
              "      filter: drop-shadow(0px 1px 2px rgba(0, 0, 0, 0.3));\n",
              "      fill: #FFFFFF;\n",
              "    }\n",
              "  </style>\n",
              "\n",
              "      <script>\n",
              "        const buttonEl =\n",
              "          document.querySelector('#df-50bf2448-4f74-4869-804b-c94fc5a3d2fd button.colab-df-convert');\n",
              "        buttonEl.style.display =\n",
              "          google.colab.kernel.accessAllowed ? 'block' : 'none';\n",
              "\n",
              "        async function convertToInteractive(key) {\n",
              "          const element = document.querySelector('#df-50bf2448-4f74-4869-804b-c94fc5a3d2fd');\n",
              "          const dataTable =\n",
              "            await google.colab.kernel.invokeFunction('convertToInteractive',\n",
              "                                                     [key], {});\n",
              "          if (!dataTable) return;\n",
              "\n",
              "          const docLinkHtml = 'Like what you see? Visit the ' +\n",
              "            '<a target=\"_blank\" href=https://colab.research.google.com/notebooks/data_table.ipynb>data table notebook</a>'\n",
              "            + ' to learn more about interactive tables.';\n",
              "          element.innerHTML = '';\n",
              "          dataTable['output_type'] = 'display_data';\n",
              "          await google.colab.output.renderOutput(dataTable, element);\n",
              "          const docLink = document.createElement('div');\n",
              "          docLink.innerHTML = docLinkHtml;\n",
              "          element.appendChild(docLink);\n",
              "        }\n",
              "      </script>\n",
              "    </div>\n",
              "  </div>\n",
              "  "
            ]
          },
          "metadata": {},
          "execution_count": 17
        }
      ]
    },
    {
      "cell_type": "code",
      "source": [
        "base_dados['texto'] = base_dados['texto'].apply(pre_processamento)"
      ],
      "metadata": {
        "id": "pfKPPwBQ3SIA"
      },
      "execution_count": 18,
      "outputs": []
    },
    {
      "cell_type": "code",
      "source": [
        "base_dados.head()"
      ],
      "metadata": {
        "colab": {
          "base_uri": "https://localhost:8080/",
          "height": 206
        },
        "id": "9qwlWUCS3fCd",
        "outputId": "c4f65049-e5d4-48d0-ef77-cc4fc72ca753"
      },
      "execution_count": 19,
      "outputs": [
        {
          "output_type": "execute_result",
          "data": {
            "text/plain": [
              "                       texto   emocao\n",
              "0        trabalhar agradável  alegria\n",
              "1  gostar ficar o aconchegar  alegria\n",
              "2   o adesão o o cursar hoje  alegria\n",
              "3                    admirar  alegria\n",
              "4               adorar comer  alegria"
            ],
            "text/html": [
              "\n",
              "  <div id=\"df-8fd4f157-c06f-47e9-a47a-a1e0667851e0\">\n",
              "    <div class=\"colab-df-container\">\n",
              "      <div>\n",
              "<style scoped>\n",
              "    .dataframe tbody tr th:only-of-type {\n",
              "        vertical-align: middle;\n",
              "    }\n",
              "\n",
              "    .dataframe tbody tr th {\n",
              "        vertical-align: top;\n",
              "    }\n",
              "\n",
              "    .dataframe thead th {\n",
              "        text-align: right;\n",
              "    }\n",
              "</style>\n",
              "<table border=\"1\" class=\"dataframe\">\n",
              "  <thead>\n",
              "    <tr style=\"text-align: right;\">\n",
              "      <th></th>\n",
              "      <th>texto</th>\n",
              "      <th>emocao</th>\n",
              "    </tr>\n",
              "  </thead>\n",
              "  <tbody>\n",
              "    <tr>\n",
              "      <th>0</th>\n",
              "      <td>trabalhar agradável</td>\n",
              "      <td>alegria</td>\n",
              "    </tr>\n",
              "    <tr>\n",
              "      <th>1</th>\n",
              "      <td>gostar ficar o aconchegar</td>\n",
              "      <td>alegria</td>\n",
              "    </tr>\n",
              "    <tr>\n",
              "      <th>2</th>\n",
              "      <td>o adesão o o cursar hoje</td>\n",
              "      <td>alegria</td>\n",
              "    </tr>\n",
              "    <tr>\n",
              "      <th>3</th>\n",
              "      <td>admirar</td>\n",
              "      <td>alegria</td>\n",
              "    </tr>\n",
              "    <tr>\n",
              "      <th>4</th>\n",
              "      <td>adorar comer</td>\n",
              "      <td>alegria</td>\n",
              "    </tr>\n",
              "  </tbody>\n",
              "</table>\n",
              "</div>\n",
              "      <button class=\"colab-df-convert\" onclick=\"convertToInteractive('df-8fd4f157-c06f-47e9-a47a-a1e0667851e0')\"\n",
              "              title=\"Convert this dataframe to an interactive table.\"\n",
              "              style=\"display:none;\">\n",
              "        \n",
              "  <svg xmlns=\"http://www.w3.org/2000/svg\" height=\"24px\"viewBox=\"0 0 24 24\"\n",
              "       width=\"24px\">\n",
              "    <path d=\"M0 0h24v24H0V0z\" fill=\"none\"/>\n",
              "    <path d=\"M18.56 5.44l.94 2.06.94-2.06 2.06-.94-2.06-.94-.94-2.06-.94 2.06-2.06.94zm-11 1L8.5 8.5l.94-2.06 2.06-.94-2.06-.94L8.5 2.5l-.94 2.06-2.06.94zm10 10l.94 2.06.94-2.06 2.06-.94-2.06-.94-.94-2.06-.94 2.06-2.06.94z\"/><path d=\"M17.41 7.96l-1.37-1.37c-.4-.4-.92-.59-1.43-.59-.52 0-1.04.2-1.43.59L10.3 9.45l-7.72 7.72c-.78.78-.78 2.05 0 2.83L4 21.41c.39.39.9.59 1.41.59.51 0 1.02-.2 1.41-.59l7.78-7.78 2.81-2.81c.8-.78.8-2.07 0-2.86zM5.41 20L4 18.59l7.72-7.72 1.47 1.35L5.41 20z\"/>\n",
              "  </svg>\n",
              "      </button>\n",
              "      \n",
              "  <style>\n",
              "    .colab-df-container {\n",
              "      display:flex;\n",
              "      flex-wrap:wrap;\n",
              "      gap: 12px;\n",
              "    }\n",
              "\n",
              "    .colab-df-convert {\n",
              "      background-color: #E8F0FE;\n",
              "      border: none;\n",
              "      border-radius: 50%;\n",
              "      cursor: pointer;\n",
              "      display: none;\n",
              "      fill: #1967D2;\n",
              "      height: 32px;\n",
              "      padding: 0 0 0 0;\n",
              "      width: 32px;\n",
              "    }\n",
              "\n",
              "    .colab-df-convert:hover {\n",
              "      background-color: #E2EBFA;\n",
              "      box-shadow: 0px 1px 2px rgba(60, 64, 67, 0.3), 0px 1px 3px 1px rgba(60, 64, 67, 0.15);\n",
              "      fill: #174EA6;\n",
              "    }\n",
              "\n",
              "    [theme=dark] .colab-df-convert {\n",
              "      background-color: #3B4455;\n",
              "      fill: #D2E3FC;\n",
              "    }\n",
              "\n",
              "    [theme=dark] .colab-df-convert:hover {\n",
              "      background-color: #434B5C;\n",
              "      box-shadow: 0px 1px 3px 1px rgba(0, 0, 0, 0.15);\n",
              "      filter: drop-shadow(0px 1px 2px rgba(0, 0, 0, 0.3));\n",
              "      fill: #FFFFFF;\n",
              "    }\n",
              "  </style>\n",
              "\n",
              "      <script>\n",
              "        const buttonEl =\n",
              "          document.querySelector('#df-8fd4f157-c06f-47e9-a47a-a1e0667851e0 button.colab-df-convert');\n",
              "        buttonEl.style.display =\n",
              "          google.colab.kernel.accessAllowed ? 'block' : 'none';\n",
              "\n",
              "        async function convertToInteractive(key) {\n",
              "          const element = document.querySelector('#df-8fd4f157-c06f-47e9-a47a-a1e0667851e0');\n",
              "          const dataTable =\n",
              "            await google.colab.kernel.invokeFunction('convertToInteractive',\n",
              "                                                     [key], {});\n",
              "          if (!dataTable) return;\n",
              "\n",
              "          const docLinkHtml = 'Like what you see? Visit the ' +\n",
              "            '<a target=\"_blank\" href=https://colab.research.google.com/notebooks/data_table.ipynb>data table notebook</a>'\n",
              "            + ' to learn more about interactive tables.';\n",
              "          element.innerHTML = '';\n",
              "          dataTable['output_type'] = 'display_data';\n",
              "          await google.colab.output.renderOutput(dataTable, element);\n",
              "          const docLink = document.createElement('div');\n",
              "          docLink.innerHTML = docLinkHtml;\n",
              "          element.appendChild(docLink);\n",
              "        }\n",
              "      </script>\n",
              "    </div>\n",
              "  </div>\n",
              "  "
            ]
          },
          "metadata": {},
          "execution_count": 19
        }
      ]
    },
    {
      "cell_type": "markdown",
      "source": [
        "## Tratamento da classe"
      ],
      "metadata": {
        "id": "JyNHEYQM3uiN"
      }
    },
    {
      "cell_type": "code",
      "source": [
        "exemplo_base_dados = [['este trabalho é agradável', {\"ALEGRIA\": True, \"MEDO\": False}],\n",
        "                      ['este lugar conitnua assustador', {\"ALEGRIA\": False, \"MEDO\": True}]]"
      ],
      "metadata": {
        "id": "cQiVuaGq3iTK"
      },
      "execution_count": 20,
      "outputs": []
    },
    {
      "cell_type": "code",
      "source": [
        "type(exemplo_base_dados)"
      ],
      "metadata": {
        "colab": {
          "base_uri": "https://localhost:8080/"
        },
        "id": "LNHcaL-U4ZMy",
        "outputId": "21ea7468-4a37-41d2-832b-e820c554b621"
      },
      "execution_count": 21,
      "outputs": [
        {
          "output_type": "execute_result",
          "data": {
            "text/plain": [
              "list"
            ]
          },
          "metadata": {},
          "execution_count": 21
        }
      ]
    },
    {
      "cell_type": "code",
      "source": [
        "exemplo_base_dados[0][0]"
      ],
      "metadata": {
        "colab": {
          "base_uri": "https://localhost:8080/",
          "height": 36
        },
        "id": "RfjLNp6j4ac2",
        "outputId": "57994c52-a561-4011-b17c-acb2f6100593"
      },
      "execution_count": 22,
      "outputs": [
        {
          "output_type": "execute_result",
          "data": {
            "text/plain": [
              "'este trabalho é agradável'"
            ],
            "application/vnd.google.colaboratory.intrinsic+json": {
              "type": "string"
            }
          },
          "metadata": {},
          "execution_count": 22
        }
      ]
    },
    {
      "cell_type": "code",
      "source": [
        "exemplo_base_dados[0][1]"
      ],
      "metadata": {
        "colab": {
          "base_uri": "https://localhost:8080/"
        },
        "id": "lB3tgQ_c4dZy",
        "outputId": "484d03e2-38e6-4023-92f0-2d6bd722f6d8"
      },
      "execution_count": 23,
      "outputs": [
        {
          "output_type": "execute_result",
          "data": {
            "text/plain": [
              "{'ALEGRIA': True, 'MEDO': False}"
            ]
          },
          "metadata": {},
          "execution_count": 23
        }
      ]
    },
    {
      "cell_type": "code",
      "source": [
        "type(exemplo_base_dados[0][1])"
      ],
      "metadata": {
        "colab": {
          "base_uri": "https://localhost:8080/"
        },
        "id": "6faVcbDt4wiy",
        "outputId": "713dbe7a-f4a8-4ea1-8189-a2bbce112a11"
      },
      "execution_count": 24,
      "outputs": [
        {
          "output_type": "execute_result",
          "data": {
            "text/plain": [
              "dict"
            ]
          },
          "metadata": {},
          "execution_count": 24
        }
      ]
    },
    {
      "cell_type": "code",
      "source": [
        "base_dados_final = []\n",
        "for texto, emocao in zip(base_dados['texto'], base_dados['emocao']):\n",
        "  #print(texto, emocao)\n",
        "  if emocao == 'alegria':\n",
        "    dic = ({'ALEGRIA': True, 'MEDO': False})\n",
        "  elif emocao == 'medo':\n",
        "    dic = ({'ALEGRIA': False, 'MEDO': True})\n",
        "\n",
        "  base_dados_final.append([texto, dic.copy()])"
      ],
      "metadata": {
        "id": "0sRNxBuY41LX"
      },
      "execution_count": 25,
      "outputs": []
    },
    {
      "cell_type": "code",
      "source": [
        "base_dados_final"
      ],
      "metadata": {
        "colab": {
          "base_uri": "https://localhost:8080/"
        },
        "id": "hQKiH0DV5IdV",
        "outputId": "240361de-ee4a-4e9a-d825-e4b58e945adc"
      },
      "execution_count": 26,
      "outputs": [
        {
          "output_type": "execute_result",
          "data": {
            "text/plain": [
              "[['trabalhar agradável', {'ALEGRIA': True, 'MEDO': False}],\n",
              " ['gostar ficar o aconchegar', {'ALEGRIA': True, 'MEDO': False}],\n",
              " ['o adesão o o cursar hoje', {'ALEGRIA': True, 'MEDO': False}],\n",
              " ['admirar', {'ALEGRIA': True, 'MEDO': False}],\n",
              " ['adorar comer', {'ALEGRIA': True, 'MEDO': False}],\n",
              " ['adorar cabelar maciar', {'ALEGRIA': True, 'MEDO': False}],\n",
              " ['adorar o cor olho', {'ALEGRIA': True, 'MEDO': False}],\n",
              " ['somar amável o outro', {'ALEGRIA': True, 'MEDO': False}],\n",
              " ['sentir umar afeição', {'ALEGRIA': True, 'MEDO': False}],\n",
              " ['querer agradar filho', {'ALEGRIA': True, 'MEDO': False}],\n",
              " ['sentir completamente amar', {'ALEGRIA': True, 'MEDO': False}],\n",
              " ['amar', {'ALEGRIA': True, 'MEDO': False}],\n",
              " ['alívio', {'ALEGRIA': True, 'MEDO': False}],\n",
              " ['o dor amenizar finalmente', {'ALEGRIA': True, 'MEDO': False}],\n",
              " ['achar apaixonar', {'ALEGRIA': True, 'MEDO': False}],\n",
              " ['amar maravilhoso', {'ALEGRIA': True, 'MEDO': False}],\n",
              " ['sentir animar', {'ALEGRIA': True, 'MEDO': False}],\n",
              " ['sentir hoje', {'ALEGRIA': True, 'MEDO': False}],\n",
              " ['comer o luar belo', {'ALEGRIA': True, 'MEDO': False}],\n",
              " ['o dia bonito', {'ALEGRIA': True, 'MEDO': False}],\n",
              " ['comer afortunar', {'ALEGRIA': True, 'MEDO': False}],\n",
              " ['o maravilhar mundo', {'ALEGRIA': True, 'MEDO': False}],\n",
              " ['receber caro hoje colega', {'ALEGRIA': True, 'MEDO': False}],\n",
              " ['sentir reconfortar hoje', {'ALEGRIA': True, 'MEDO': False}],\n",
              " ['o amigo', {'ALEGRIA': True, 'MEDO': False}],\n",
              " ['contentar o resultar teste', {'ALEGRIA': True, 'MEDO': False}],\n",
              " ['pintura brilhante', {'ALEGRIA': True, 'MEDO': False}],\n",
              " ['água abundância', {'ALEGRIA': True, 'MEDO': False}],\n",
              " ['roupar delicado', {'ALEGRIA': True, 'MEDO': False}],\n",
              " ['comediante', {'ALEGRIA': True, 'MEDO': False}],\n",
              " ['bondade o suar', {'ALEGRIA': True, 'MEDO': False}],\n",
              " ['o amor lindar', {'ALEGRIA': True, 'MEDO': False}],\n",
              " ['amizade durar parir', {'ALEGRIA': True, 'MEDO': False}],\n",
              " ['eufórico o notícia', {'ALEGRIA': True, 'MEDO': False}],\n",
              " ['realmente fiel o mim', {'ALEGRIA': True, 'MEDO': False}],\n",
              " ['umar festa parir comemorar aniversário', {'ALEGRIA': True, 'MEDO': False}],\n",
              " ['graça o deus enxergar o certar', {'ALEGRIA': True, 'MEDO': False}],\n",
              " ['o melhor escolher', {'ALEGRIA': True, 'MEDO': False}],\n",
              " ['o incrível belo', {'ALEGRIA': True, 'MEDO': False}],\n",
              " ['engraçar explicar', {'ALEGRIA': True, 'MEDO': False}],\n",
              " ['emocionante n', {'ALEGRIA': True, 'MEDO': False}],\n",
              " ['cativar pelar olhar', {'ALEGRIA': True, 'MEDO': False}],\n",
              " ['loucamente apaixonar', {'ALEGRIA': True, 'MEDO': False}],\n",
              " ['dúvida', {'ALEGRIA': True, 'MEDO': False}],\n",
              " ['rodear pelar abraçar', {'ALEGRIA': True, 'MEDO': False}],\n",
              " ['estrelo pelar caminhar', {'ALEGRIA': True, 'MEDO': False}],\n",
              " ['sentir o sol', {'ALEGRIA': True, 'MEDO': False}],\n",
              " ['sorrir orelhar o orelhar', {'ALEGRIA': True, 'MEDO': False}],\n",
              " ['valer o peno', {'ALEGRIA': True, 'MEDO': False}],\n",
              " ['finalmente colocar amor', {'ALEGRIA': True, 'MEDO': False}],\n",
              " ['nó dançar noite adentrar', {'ALEGRIA': True, 'MEDO': False}],\n",
              " ['amor brilhante', {'ALEGRIA': True, 'MEDO': False}],\n",
              " ['tocar coração durante o caminhar', {'ALEGRIA': True, 'MEDO': False}],\n",
              " ['suar amigo e companheiro', {'ALEGRIA': True, 'MEDO': False}],\n",
              " ['trazer voltar o vidar', {'ALEGRIA': True, 'MEDO': False}],\n",
              " ['e comer sonhar doce', {'ALEGRIA': True, 'MEDO': False}],\n",
              " ['adorar doce frutar', {'ALEGRIA': True, 'MEDO': False}],\n",
              " ['suco favorito', {'ALEGRIA': True, 'MEDO': False}],\n",
              " ['agradecido pelar ajudar', {'ALEGRIA': True, 'MEDO': False}],\n",
              " ['enorme prazer equipar', {'ALEGRIA': True, 'MEDO': False}],\n",
              " ['trabalhar equipar o melhor', {'ALEGRIA': True, 'MEDO': False}],\n",
              " ['sentir flutuar o ar', {'ALEGRIA': True, 'MEDO': False}],\n",
              " ['o brisa agradável hoje', {'ALEGRIA': True, 'MEDO': False}],\n",
              " ['ótimo e compatível', {'ALEGRIA': True, 'MEDO': False}],\n",
              " ['compatível o outro', {'ALEGRIA': True, 'MEDO': False}],\n",
              " ['o órgão compatível o paciente', {'ALEGRIA': True, 'MEDO': False}],\n",
              " ['contentar aceito o faculdade', {'ALEGRIA': True, 'MEDO': False}],\n",
              " ['aprovar o exame', {'ALEGRIA': True, 'MEDO': False}],\n",
              " ['beneficiar pelar empresar', {'ALEGRIA': True, 'MEDO': False}],\n",
              " ['cativante', {'ALEGRIA': True, 'MEDO': False}],\n",
              " ['contentar o apoiar', {'ALEGRIA': True, 'MEDO': False}],\n",
              " ['comer e confortável', {'ALEGRIA': True, 'MEDO': False}],\n",
              " ['e quentar n frio', {'ALEGRIA': True, 'MEDO': False}],\n",
              " ['elogiar e', {'ALEGRIA': True, 'MEDO': False}],\n",
              " ['chamar parir comemorar', {'ALEGRIA': True, 'MEDO': False}],\n",
              " ['desejável o suar presença apresentação', {'ALEGRIA': True, 'MEDO': False}],\n",
              " ['grato o', {'ALEGRIA': True, 'MEDO': False}],\n",
              " ['dedicar n', {'ALEGRIA': True, 'MEDO': False}],\n",
              " ['completamente apaixonar', {'ALEGRIA': True, 'MEDO': False}],\n",
              " ['agitar noite', {'ALEGRIA': True, 'MEDO': False}],\n",
              " ['significar parir mim', {'ALEGRIA': True, 'MEDO': False}],\n",
              " ['agir preconceito e julgamento', {'ALEGRIA': True, 'MEDO': False}],\n",
              " ['finalmente completar o coleção maravilhoso',\n",
              "  {'ALEGRIA': True, 'MEDO': False}],\n",
              " ['suar rei', {'ALEGRIA': True, 'MEDO': False}],\n",
              " ['satisfatoriamente anunciar o vencedor jogo',\n",
              "  {'ALEGRIA': True, 'MEDO': False}],\n",
              " ['atrair facilmente', {'ALEGRIA': True, 'MEDO': False}],\n",
              " ['rapaz e extremamente atraente', {'ALEGRIA': True, 'MEDO': False}],\n",
              " ['sinto-me vivo', {'ALEGRIA': True, 'MEDO': False}],\n",
              " ['sinto-me paz', {'ALEGRIA': True, 'MEDO': False}],\n",
              " ['lucrar', {'ALEGRIA': True, 'MEDO': False}],\n",
              " ['ordem', {'ALEGRIA': True, 'MEDO': False}],\n",
              " ['arrumar empregar junto', {'ALEGRIA': True, 'MEDO': False}],\n",
              " ['o arrumação terminar alívio', {'ALEGRIA': True, 'MEDO': False}],\n",
              " ['o câncer benigno', {'ALEGRIA': True, 'MEDO': False}],\n",
              " ['o amor abundante', {'ALEGRIA': True, 'MEDO': False}],\n",
              " ['caridoso natal', {'ALEGRIA': True, 'MEDO': False}],\n",
              " ['charme irar atrair o', {'ALEGRIA': True, 'MEDO': False}],\n",
              " ['comer charmoso querer', {'ALEGRIA': True, 'MEDO': False}],\n",
              " ['querido amigo', {'ALEGRIA': True, 'MEDO': False}],\n",
              " ['cuidadoso o sentimento', {'ALEGRIA': True, 'MEDO': False}],\n",
              " ['comover tamanho caridade', {'ALEGRIA': True, 'MEDO': False}],\n",
              " ['chá quentar e reconfortante', {'ALEGRIA': True, 'MEDO': False}],\n",
              " ['alegria', {'ALEGRIA': True, 'MEDO': False}],\n",
              " ['aplaudir o vencedor', {'ALEGRIA': True, 'MEDO': False}],\n",
              " ['palmar parir o aniversariante', {'ALEGRIA': True, 'MEDO': False}],\n",
              " ['desejar o', {'ALEGRIA': True, 'MEDO': False}],\n",
              " ['horar apreciar vinho', {'ALEGRIA': True, 'MEDO': False}],\n",
              " ['apreciar suar presença escola', {'ALEGRIA': True, 'MEDO': False}],\n",
              " ['ansiar trabalho', {'ALEGRIA': True, 'MEDO': False}],\n",
              " ['maravilhoso jogar amistoso', {'ALEGRIA': True, 'MEDO': False}],\n",
              " ['e ótimo o menimos apaziguar', {'ALEGRIA': True, 'MEDO': False}],\n",
              " ['concretizar finalmente sonhar', {'ALEGRIA': True, 'MEDO': False}],\n",
              " ['implorar matar', {'ALEGRIA': False, 'MEDO': True}],\n",
              " ['perigoso', {'ALEGRIA': False, 'MEDO': True}],\n",
              " ['segurar', {'ALEGRIA': False, 'MEDO': True}],\n",
              " ['correr pra', {'ALEGRIA': False, 'MEDO': True}],\n",
              " ['socorrer querer roubar o doce', {'ALEGRIA': False, 'MEDO': True}],\n",
              " ['caro perseguir', {'ALEGRIA': False, 'MEDO': True}],\n",
              " ['entrar perigoso', {'ALEGRIA': False, 'MEDO': True}],\n",
              " ['continuar assustador', {'ALEGRIA': False, 'MEDO': True}],\n",
              " ['o selva animar perigoso', {'ALEGRIA': False, 'MEDO': True}],\n",
              " ['avançar cautela', {'ALEGRIA': False, 'MEDO': True}],\n",
              " ['silencioso cuidar', {'ALEGRIA': False, 'MEDO': True}],\n",
              " ['deixe-me viver', {'ALEGRIA': False, 'MEDO': True}],\n",
              " ['ficar mesada tirar noto', {'ALEGRIA': False, 'MEDO': True}],\n",
              " ['parecer olho o vigiar', {'ALEGRIA': False, 'MEDO': True}],\n",
              " ['o sentença juiz negativo', {'ALEGRIA': False, 'MEDO': True}],\n",
              " ['missão arriscar', {'ALEGRIA': False, 'MEDO': True}],\n",
              " ['salvem-se', {'ALEGRIA': False, 'MEDO': True}],\n",
              " ['planar descobrir', {'ALEGRIA': False, 'MEDO': True}],\n",
              " ['culpar jurar', {'ALEGRIA': False, 'MEDO': True}],\n",
              " ['tomar cuidar o lobisomem', {'ALEGRIA': False, 'MEDO': True}],\n",
              " ['achar descobrir o verdade', {'ALEGRIA': False, 'MEDO': True}],\n",
              " ['deus desaparecer', {'ALEGRIA': False, 'MEDO': True}],\n",
              " ['tomar d', {'ALEGRIA': False, 'MEDO': True}],\n",
              " ['manter segredar descobrir ferrar', {'ALEGRIA': False, 'MEDO': True}],\n",
              " ['soltar inocentar', {'ALEGRIA': False, 'MEDO': True}],\n",
              " ['ouvir passo mim', {'ALEGRIA': False, 'MEDO': True}],\n",
              " ['pedir socorrer', {'ALEGRIA': False, 'MEDO': True}],\n",
              " ['cuidar o curvo o estrar', {'ALEGRIA': False, 'MEDO': True}],\n",
              " ['parecer perigoso', {'ALEGRIA': False, 'MEDO': True}],\n",
              " ['tremer medo', {'ALEGRIA': False, 'MEDO': True}],\n",
              " ['socorrer cair', {'ALEGRIA': False, 'MEDO': True}],\n",
              " ['o florestar negro perigoso', {'ALEGRIA': False, 'MEDO': True}],\n",
              " ['ouvir passo o direção', {'ALEGRIA': False, 'MEDO': True}],\n",
              " ['achar arriscar', {'ALEGRIA': False, 'MEDO': True}],\n",
              " ['voltar perigoso', {'ALEGRIA': False, 'MEDO': True}],\n",
              " ['fugir acabar morto', {'ALEGRIA': False, 'MEDO': True}],\n",
              " ['recear livrar d situação', {'ALEGRIA': False, 'MEDO': True}],\n",
              " ['socorrer armar', {'ALEGRIA': False, 'MEDO': True}],\n",
              " ['eis cuidar bater o postar', {'ALEGRIA': False, 'MEDO': True}],\n",
              " ['socorrer nó afundar', {'ALEGRIA': False, 'MEDO': True}],\n",
              " ['e sério cuidar armar', {'ALEGRIA': False, 'MEDO': True}],\n",
              " ['o tubarão atacar', {'ALEGRIA': False, 'MEDO': True}],\n",
              " ['sentir arrepio ficar o escuro', {'ALEGRIA': False, 'MEDO': True}],\n",
              " ['calmo o dinheiro', {'ALEGRIA': False, 'MEDO': True}],\n",
              " ['achar enganar', {'ALEGRIA': False, 'MEDO': True}],\n",
              " ['ligeiro fugir depressa', {'ALEGRIA': False, 'MEDO': True}],\n",
              " ['crocodilo selvagem vir parir', {'ALEGRIA': False, 'MEDO': True}],\n",
              " ['ficar o achar', {'ALEGRIA': False, 'MEDO': True}],\n",
              " ['fugir o tigre parecer faminto', {'ALEGRIA': False, 'MEDO': True}],\n",
              " ['sair precisar milagre', {'ALEGRIA': False, 'MEDO': True}],\n",
              " ['tirar mim socorrer', {'ALEGRIA': False, 'MEDO': True}],\n",
              " ['nadar afogar', {'ALEGRIA': False, 'MEDO': True}],\n",
              " ['e segurar', {'ALEGRIA': False, 'MEDO': True}],\n",
              " ['apanhar pai boletim', {'ALEGRIA': False, 'MEDO': True}],\n",
              " ['conseguir sair d', {'ALEGRIA': False, 'MEDO': True}],\n",
              " ['sair tardar assaltar', {'ALEGRIA': False, 'MEDO': True}],\n",
              " ['deixar', {'ALEGRIA': False, 'MEDO': True}],\n",
              " ['esperar largar', {'ALEGRIA': False, 'MEDO': True}],\n",
              " ['pelar suar segurança', {'ALEGRIA': False, 'MEDO': True}],\n",
              " ['entregar o dinheiro matar', {'ALEGRIA': False, 'MEDO': True}],\n",
              " ['levar o dinheiro', {'ALEGRIA': False, 'MEDO': True}],\n",
              " ['dirigir rápido', {'ALEGRIA': False, 'MEDO': True}],\n",
              " ['descobrir prender', {'ALEGRIA': False, 'MEDO': True}],\n",
              " ['esperar nenhum', {'ALEGRIA': False, 'MEDO': True}],\n",
              " ['afogar ajudar o sair água', {'ALEGRIA': False, 'MEDO': True}],\n",
              " ['o salvar', {'ALEGRIA': False, 'MEDO': True}],\n",
              " ['querer pensar o acontecer', {'ALEGRIA': False, 'MEDO': True}],\n",
              " ['n cidade umar desgraçar outro', {'ALEGRIA': False, 'MEDO': True}],\n",
              " ['alguém ligar assustar', {'ALEGRIA': False, 'MEDO': True}],\n",
              " ['remedio matar', {'ALEGRIA': False, 'MEDO': True}],\n",
              " ['confiar n cautela', {'ALEGRIA': False, 'MEDO': True}],\n",
              " ['cautela', {'ALEGRIA': False, 'MEDO': True}],\n",
              " ['descobrir deus', {'ALEGRIA': False, 'MEDO': True}],\n",
              " ['recear', {'ALEGRIA': False, 'MEDO': True}],\n",
              " ['o noite e perigoso', {'ALEGRIA': False, 'MEDO': True}],\n",
              " ['estremecer casar', {'ALEGRIA': False, 'MEDO': True}],\n",
              " ['olhar criatura mover monstruosamente', {'ALEGRIA': False, 'MEDO': True}],\n",
              " ['aguentar suspense', {'ALEGRIA': False, 'MEDO': True}],\n",
              " ['afugentar o cão', {'ALEGRIA': False, 'MEDO': True}],\n",
              " ['chocar e amedrontar assassinato brutal', {'ALEGRIA': False, 'MEDO': True}],\n",
              " ['precisar afugentar ímpeto medo infernar', {'ALEGRIA': False, 'MEDO': True}],\n",
              " ['político suar forçar parir afugentar e amedrontar o',\n",
              "  {'ALEGRIA': False, 'MEDO': True}],\n",
              " ['o objetivo d e amedrontar', {'ALEGRIA': False, 'MEDO': True}],\n",
              " ['apavorar', {'ALEGRIA': False, 'MEDO': True}]]"
            ]
          },
          "metadata": {},
          "execution_count": 26
        }
      ]
    },
    {
      "cell_type": "code",
      "source": [
        "len(base_dados_final)"
      ],
      "metadata": {
        "colab": {
          "base_uri": "https://localhost:8080/"
        },
        "id": "IhHoT_R06aNc",
        "outputId": "812813a0-3dd5-4523-e19f-34400290d5ec"
      },
      "execution_count": 27,
      "outputs": [
        {
          "output_type": "execute_result",
          "data": {
            "text/plain": [
              "196"
            ]
          },
          "metadata": {},
          "execution_count": 27
        }
      ]
    },
    {
      "cell_type": "code",
      "source": [
        "base_dados_final[0]"
      ],
      "metadata": {
        "colab": {
          "base_uri": "https://localhost:8080/"
        },
        "id": "GQH8P8Zu6l7U",
        "outputId": "ae168783-33fb-4561-d83d-9ccce1353920"
      },
      "execution_count": 28,
      "outputs": [
        {
          "output_type": "execute_result",
          "data": {
            "text/plain": [
              "['trabalhar agradável', {'ALEGRIA': True, 'MEDO': False}]"
            ]
          },
          "metadata": {},
          "execution_count": 28
        }
      ]
    },
    {
      "cell_type": "code",
      "source": [
        "base_dados_final[0][0]"
      ],
      "metadata": {
        "colab": {
          "base_uri": "https://localhost:8080/",
          "height": 36
        },
        "id": "chinv2IA6p0d",
        "outputId": "fab7b093-c34e-4cfc-b237-ee22010c0630"
      },
      "execution_count": 29,
      "outputs": [
        {
          "output_type": "execute_result",
          "data": {
            "text/plain": [
              "'trabalhar agradável'"
            ],
            "application/vnd.google.colaboratory.intrinsic+json": {
              "type": "string"
            }
          },
          "metadata": {},
          "execution_count": 29
        }
      ]
    },
    {
      "cell_type": "code",
      "source": [
        "base_dados_final[0][1]"
      ],
      "metadata": {
        "colab": {
          "base_uri": "https://localhost:8080/"
        },
        "id": "BI4rEja_6q7-",
        "outputId": "d3821346-93ae-4274-964a-3c086cccd280"
      },
      "execution_count": 30,
      "outputs": [
        {
          "output_type": "execute_result",
          "data": {
            "text/plain": [
              "{'ALEGRIA': True, 'MEDO': False}"
            ]
          },
          "metadata": {},
          "execution_count": 30
        }
      ]
    },
    {
      "cell_type": "markdown",
      "source": [
        "# Criação do classificador"
      ],
      "metadata": {
        "id": "UiGwhrpY68eZ"
      }
    },
    {
      "cell_type": "code",
      "source": [
        "# !pip uninstall spacy"
      ],
      "metadata": {
        "id": "0S_WifY1RB9p"
      },
      "execution_count": 32,
      "outputs": []
    },
    {
      "cell_type": "code",
      "source": [
        "# !pip install spacy==2.2.3"
      ],
      "metadata": {
        "id": "e7_66_lJRGTJ"
      },
      "execution_count": 33,
      "outputs": []
    },
    {
      "cell_type": "code",
      "source": [
        "modelo = spacy.blank('pt')\n",
        "categorias = modelo.create_pipe('textcat')\n",
        "categorias.add_label(\"ALEGRIA\")\n",
        "categorias.add_label(\"MEDO\")\n",
        "modelo.add_pipe(categorias)\n",
        "historico = []"
      ],
      "metadata": {
        "id": "tHNxaoFt6rz4"
      },
      "execution_count": 31,
      "outputs": []
    },
    {
      "cell_type": "code",
      "source": [
        "random.shuffle(base_dados_final)"
      ],
      "metadata": {
        "id": "BpkAzCOLF4ih"
      },
      "execution_count": 34,
      "outputs": []
    },
    {
      "cell_type": "code",
      "source": [
        "modelo.begin_training()\n",
        "for epoca in range(1000):\n",
        "  random.shuffle(base_dados_final)\n",
        "  losses = {}\n",
        "  for batch in spacy.util.minibatch(base_dados_final, 30):\n",
        "   textos = [modelo(texto) for texto, entities in batch]\n",
        "   annotations = [{'cats': entities} for texto, entities in batch]\n",
        "   modelo.update(textos,annotations, losses=losses)\n",
        "  if epoca % 100 == 0:\n",
        "    print(losses)\n",
        "    historico.append(losses) "
      ],
      "metadata": {
        "colab": {
          "base_uri": "https://localhost:8080/"
        },
        "id": "FUnI9iGl-cra",
        "outputId": "324df7c8-8205-4df6-ac13-af71187d5bca"
      },
      "execution_count": 35,
      "outputs": [
        {
          "output_type": "stream",
          "name": "stdout",
          "text": [
            "{'textcat': 0.006726052844896913}\n",
            "{'textcat': 1.818336636816298e-07}\n",
            "{'textcat': 5.811497860719328e-08}\n",
            "{'textcat': 2.6439725742122278e-08}\n",
            "{'textcat': 1.84788222501453e-08}\n",
            "{'textcat': 1.1152286205629025e-08}\n",
            "{'textcat': 7.719071437595204e-09}\n",
            "{'textcat': 5.625087562410869e-09}\n",
            "{'textcat': 4.831388927817315e-09}\n",
            "{'textcat': 4.801149366961965e-09}\n"
          ]
        }
      ]
    },
    {
      "cell_type": "code",
      "source": [
        "historico_loss = []\n",
        "for i in historico:\n",
        "  historico_loss.append(i.get('textcat'))"
      ],
      "metadata": {
        "id": "XbzfzUraFFUy"
      },
      "execution_count": 36,
      "outputs": []
    },
    {
      "cell_type": "code",
      "source": [
        "historico_loss = np.array(historico_loss)\n",
        "historico_loss"
      ],
      "metadata": {
        "colab": {
          "base_uri": "https://localhost:8080/"
        },
        "id": "XWmuoEavFOvp",
        "outputId": "8c3fd44f-c949-4ee0-85b5-63e80eeb0c74"
      },
      "execution_count": 37,
      "outputs": [
        {
          "output_type": "execute_result",
          "data": {
            "text/plain": [
              "array([6.72605284e-03, 1.81833664e-07, 5.81149786e-08, 2.64397257e-08,\n",
              "       1.84788223e-08, 1.11522862e-08, 7.71907144e-09, 5.62508756e-09,\n",
              "       4.83138893e-09, 4.80114937e-09])"
            ]
          },
          "metadata": {},
          "execution_count": 37
        }
      ]
    },
    {
      "cell_type": "code",
      "source": [
        "import matplotlib.pyplot as plt\n",
        "plt.plot(historico_loss)\n",
        "plt.title('Progressão do erro')\n",
        "plt.xlabel('Épocas')\n",
        "plt.ylabel('Erro')\n",
        "plt.show();"
      ],
      "metadata": {
        "colab": {
          "base_uri": "https://localhost:8080/",
          "height": 297
        },
        "id": "6WcCySGFFjev",
        "outputId": "69c11f7b-cf69-4319-b936-05806607913a"
      },
      "execution_count": 38,
      "outputs": [
        {
          "output_type": "display_data",
          "data": {
            "text/plain": [
              "<Figure size 432x288 with 1 Axes>"
            ],
            "image/png": "[encoded data removed]"
          },
          "metadata": {
            "needs_background": "light"
          }
        }
      ]
    },
    {
      "cell_type": "code",
      "source": [
        "modelo.to_disk(\"modelo\")"
      ],
      "metadata": {
        "id": "4HWFXvfcGT-i"
      },
      "execution_count": 39,
      "outputs": []
    },
    {
      "cell_type": "markdown",
      "source": [
        "# Testes com uma frase"
      ],
      "metadata": {
        "id": "4Iy0KK9j-aSD"
      }
    },
    {
      "cell_type": "code",
      "source": [
        "modelo_carregado = spacy.load('modelo')"
      ],
      "metadata": {
        "id": "FFzfMVBy81CB"
      },
      "execution_count": 40,
      "outputs": []
    },
    {
      "cell_type": "code",
      "source": [
        "modelo_carregado"
      ],
      "metadata": {
        "colab": {
          "base_uri": "https://localhost:8080/"
        },
        "id": "AOrkZeimGkVH",
        "outputId": "fd360778-d387-48d0-82d3-a2cb133b6a8e"
      },
      "execution_count": 41,
      "outputs": [
        {
          "output_type": "execute_result",
          "data": {
            "text/plain": [
              "<spacy.lang.pt.Portuguese at 0x7fdc959fe050>"
            ]
          },
          "metadata": {},
          "execution_count": 41
        }
      ]
    },
    {
      "cell_type": "code",
      "source": [
        "texto_positivo = 'eu adoro a cor dos seus olhos'\n",
        "texto_positivo = pre_processamento(texto_positivo)\n",
        "texto_positivo"
      ],
      "metadata": {
        "colab": {
          "base_uri": "https://localhost:8080/",
          "height": 36
        },
        "id": "kSNCTI8mGoKF",
        "outputId": "adc90f0b-40b5-443e-9209-dd361a76d6cd"
      },
      "execution_count": 42,
      "outputs": [
        {
          "output_type": "execute_result",
          "data": {
            "text/plain": [
              "'adorar o cor olho'"
            ],
            "application/vnd.google.colaboratory.intrinsic+json": {
              "type": "string"
            }
          },
          "metadata": {},
          "execution_count": 42
        }
      ]
    },
    {
      "cell_type": "code",
      "source": [
        "previsao = modelo_carregado(texto_positivo)\n",
        "previsao"
      ],
      "metadata": {
        "colab": {
          "base_uri": "https://localhost:8080/"
        },
        "id": "6UrsrfTaG0t_",
        "outputId": "eb20ff44-83cd-4ac3-996b-1d527ea54bf6"
      },
      "execution_count": 43,
      "outputs": [
        {
          "output_type": "execute_result",
          "data": {
            "text/plain": [
              "adorar o cor olho"
            ]
          },
          "metadata": {},
          "execution_count": 43
        }
      ]
    },
    {
      "cell_type": "code",
      "source": [
        "previsao.cats"
      ],
      "metadata": {
        "colab": {
          "base_uri": "https://localhost:8080/"
        },
        "id": "yl5srGFPG69O",
        "outputId": "a9450b99-0f67-48e0-e58c-d67cec1a3157"
      },
      "execution_count": 44,
      "outputs": [
        {
          "output_type": "execute_result",
          "data": {
            "text/plain": [
              "{'ALEGRIA': 0.9998936653137207, 'MEDO': 0.00018480763537809253}"
            ]
          },
          "metadata": {},
          "execution_count": 44
        }
      ]
    },
    {
      "cell_type": "code",
      "source": [
        "texto_negativo = 'estou com medo do escuro'\n",
        "texto_negativo = pre_processamento(texto_negativo)\n",
        "texto_negativo"
      ],
      "metadata": {
        "colab": {
          "base_uri": "https://localhost:8080/",
          "height": 36
        },
        "id": "FI5qN8MbHA7u",
        "outputId": "05d4d6c5-c2a0-4de3-ba57-3d31aaf0551e"
      },
      "execution_count": 45,
      "outputs": [
        {
          "output_type": "execute_result",
          "data": {
            "text/plain": [
              "'medo escuro'"
            ],
            "application/vnd.google.colaboratory.intrinsic+json": {
              "type": "string"
            }
          },
          "metadata": {},
          "execution_count": 45
        }
      ]
    },
    {
      "cell_type": "code",
      "source": [
        "previsao = modelo_carregado(texto_negativo)\n",
        "previsao"
      ],
      "metadata": {
        "colab": {
          "base_uri": "https://localhost:8080/"
        },
        "id": "SkcnG33SHXoe",
        "outputId": "7a2a7817-1c29-49cd-8448-6bc888572a83"
      },
      "execution_count": 46,
      "outputs": [
        {
          "output_type": "execute_result",
          "data": {
            "text/plain": [
              "medo escuro"
            ]
          },
          "metadata": {},
          "execution_count": 46
        }
      ]
    },
    {
      "cell_type": "code",
      "source": [
        "previsao.cats"
      ],
      "metadata": {
        "colab": {
          "base_uri": "https://localhost:8080/"
        },
        "id": "h9HUYLa4Hfjo",
        "outputId": "f3d87da7-ec69-4ff9-9593-8a9f635f0b47"
      },
      "execution_count": 47,
      "outputs": [
        {
          "output_type": "execute_result",
          "data": {
            "text/plain": [
              "{'ALEGRIA': 0.05356074869632721, 'MEDO': 0.8732336163520813}"
            ]
          },
          "metadata": {},
          "execution_count": 47
        }
      ]
    },
    {
      "cell_type": "markdown",
      "source": [
        "# Avaliação do modelo"
      ],
      "metadata": {
        "id": "zXd-ZyMHHvqe"
      }
    },
    {
      "cell_type": "markdown",
      "source": [
        "## Avaliação na base de treinamento"
      ],
      "metadata": {
        "id": "0U4caB_SH7f3"
      }
    },
    {
      "cell_type": "code",
      "source": [
        "previsoes = []\n",
        "for texto in base_dados['texto']:\n",
        "  #print(texto)\n",
        "  previsao = modelo_carregado(texto)\n",
        "  previsoes.append(previsao.cats)"
      ],
      "metadata": {
        "id": "Wzgl3ZhhHgs5"
      },
      "execution_count": 48,
      "outputs": []
    },
    {
      "cell_type": "code",
      "source": [
        "previsoes"
      ],
      "metadata": {
        "colab": {
          "base_uri": "https://localhost:8080/"
        },
        "id": "2isqC0J0IAWX",
        "outputId": "8462537f-2629-4c0b-f704-0d95866e9b6e"
      },
      "execution_count": 49,
      "outputs": [
        {
          "output_type": "execute_result",
          "data": {
            "text/plain": [
              "[{'ALEGRIA': 0.9995985627174377, 'MEDO': 0.00025106253451667726},\n",
              " {'ALEGRIA': 0.9994879961013794, 'MEDO': 0.0007703145383857191},\n",
              " {'ALEGRIA': 0.9996439218521118, 'MEDO': 0.00037629963480867445},\n",
              " {'ALEGRIA': 0.9995997548103333, 'MEDO': 0.00029684812761843204},\n",
              " {'ALEGRIA': 0.9999395608901978, 'MEDO': 0.0001117887077271007},\n",
              " {'ALEGRIA': 0.9997134804725647, 'MEDO': 0.00020082085393369198},\n",
              " {'ALEGRIA': 0.9998936653137207, 'MEDO': 0.00018480763537809253},\n",
              " {'ALEGRIA': 0.9991322159767151, 'MEDO': 0.0004533222527243197},\n",
              " {'ALEGRIA': 0.9997475743293762, 'MEDO': 0.0002674073330126703},\n",
              " {'ALEGRIA': 0.9994125366210938, 'MEDO': 0.00032860212377272546},\n",
              " {'ALEGRIA': 0.9997988343238831, 'MEDO': 7.876311428844929e-05},\n",
              " {'ALEGRIA': 0.9998210072517395, 'MEDO': 8.305602386826649e-05},\n",
              " {'ALEGRIA': 0.9997555613517761, 'MEDO': 0.00010562679381109774},\n",
              " {'ALEGRIA': 0.9995380640029907, 'MEDO': 0.0003022455202881247},\n",
              " {'ALEGRIA': 0.9993801116943359, 'MEDO': 0.0006965126376599073},\n",
              " {'ALEGRIA': 0.9998905658721924, 'MEDO': 0.00028720710542984307},\n",
              " {'ALEGRIA': 0.9997214674949646, 'MEDO': 7.478230691049248e-05},\n",
              " {'ALEGRIA': 0.9998515844345093, 'MEDO': 6.403099541785195e-05},\n",
              " {'ALEGRIA': 0.9999117851257324, 'MEDO': 7.590077439090237e-05},\n",
              " {'ALEGRIA': 0.9994803071022034, 'MEDO': 0.00043209135765209794},\n",
              " {'ALEGRIA': 0.9999061822891235, 'MEDO': 5.689776662620716e-05},\n",
              " {'ALEGRIA': 0.9995061159133911, 'MEDO': 0.0002395456685917452},\n",
              " {'ALEGRIA': 0.9995861649513245, 'MEDO': 0.00041280107689090073},\n",
              " {'ALEGRIA': 0.9997337460517883, 'MEDO': 0.00012175950541859493},\n",
              " {'ALEGRIA': 0.9998018145561218, 'MEDO': 0.00022421298490371555},\n",
              " {'ALEGRIA': 0.9997077584266663, 'MEDO': 0.0003641120856627822},\n",
              " {'ALEGRIA': 0.999562680721283, 'MEDO': 0.00048034320934675634},\n",
              " {'ALEGRIA': 0.9996657371520996, 'MEDO': 0.00029363587964326143},\n",
              " {'ALEGRIA': 0.9995216131210327, 'MEDO': 0.00025442722835578024},\n",
              " {'ALEGRIA': 0.9997808337211609, 'MEDO': 7.879722397774458e-05},\n",
              " {'ALEGRIA': 0.9997759461402893, 'MEDO': 0.0003129605611320585},\n",
              " {'ALEGRIA': 0.9997134804725647, 'MEDO': 0.0001862493809312582},\n",
              " {'ALEGRIA': 0.9995216131210327, 'MEDO': 0.00026550149777904153},\n",
              " {'ALEGRIA': 0.9997122883796692, 'MEDO': 0.00033104876638390124},\n",
              " {'ALEGRIA': 0.9994590878486633, 'MEDO': 0.0003498547594062984},\n",
              " {'ALEGRIA': 0.9994258880615234, 'MEDO': 0.0005516695673577487},\n",
              " {'ALEGRIA': 0.999584972858429, 'MEDO': 0.00032485832343809307},\n",
              " {'ALEGRIA': 0.9995865225791931, 'MEDO': 0.00019918198813684285},\n",
              " {'ALEGRIA': 0.9997661709785461, 'MEDO': 0.00034036042052321136},\n",
              " {'ALEGRIA': 0.9996521472930908, 'MEDO': 0.00020205622422508895},\n",
              " {'ALEGRIA': 0.9997914433479309, 'MEDO': 0.0003174676385242492},\n",
              " {'ALEGRIA': 0.999392032623291, 'MEDO': 0.0002792915911413729},\n",
              " {'ALEGRIA': 0.9998576641082764, 'MEDO': 4.539786823443137e-05},\n",
              " {'ALEGRIA': 0.9994322657585144, 'MEDO': 0.0002576757688075304},\n",
              " {'ALEGRIA': 0.9994813799858093, 'MEDO': 0.00022230102331377566},\n",
              " {'ALEGRIA': 0.9996343851089478, 'MEDO': 0.0001620152179384604},\n",
              " {'ALEGRIA': 0.9997522234916687, 'MEDO': 8.691322000231594e-05},\n",
              " {'ALEGRIA': 0.9996119141578674, 'MEDO': 0.00024549770751036704},\n",
              " {'ALEGRIA': 0.9995434880256653, 'MEDO': 0.0005195608246140182},\n",
              " {'ALEGRIA': 0.9996880292892456, 'MEDO': 0.00022975170577410609},\n",
              " {'ALEGRIA': 0.9992576241493225, 'MEDO': 0.0007899352931417525},\n",
              " {'ALEGRIA': 0.9998486042022705, 'MEDO': 8.206209895433858e-05},\n",
              " {'ALEGRIA': 0.9992640614509583, 'MEDO': 0.000606274523306638},\n",
              " {'ALEGRIA': 0.9994231462478638, 'MEDO': 0.0004929962451569736},\n",
              " {'ALEGRIA': 0.9991253018379211, 'MEDO': 0.0006174310110509396},\n",
              " {'ALEGRIA': 0.9993187189102173, 'MEDO': 0.0002848539734259248},\n",
              " {'ALEGRIA': 0.9996873140335083, 'MEDO': 0.00013120059156790376},\n",
              " {'ALEGRIA': 0.999215841293335, 'MEDO': 0.00036601792089641094},\n",
              " {'ALEGRIA': 0.9997276663780212, 'MEDO': 0.0001729400537442416},\n",
              " {'ALEGRIA': 0.9997531771659851, 'MEDO': 0.0002811834856402129},\n",
              " {'ALEGRIA': 0.9994416832923889, 'MEDO': 0.0002540468703955412},\n",
              " {'ALEGRIA': 0.9997612833976746, 'MEDO': 0.00021692822338081896},\n",
              " {'ALEGRIA': 0.9996404647827148, 'MEDO': 0.00019538293418008834},\n",
              " {'ALEGRIA': 0.999863862991333, 'MEDO': 0.00018696748884394765},\n",
              " {'ALEGRIA': 0.9998598098754883, 'MEDO': 0.00018212628492619842},\n",
              " {'ALEGRIA': 0.9995065927505493, 'MEDO': 0.0003535548457875848},\n",
              " {'ALEGRIA': 0.9997487664222717, 'MEDO': 0.00032998123788274825},\n",
              " {'ALEGRIA': 0.9996848106384277, 'MEDO': 0.00017687091894913465},\n",
              " {'ALEGRIA': 0.999251663684845, 'MEDO': 0.0004608015588019043},\n",
              " {'ALEGRIA': 0.9997698664665222, 'MEDO': 4.539786823443137e-05},\n",
              " {'ALEGRIA': 0.9997891783714294, 'MEDO': 0.00026618054835125804},\n",
              " {'ALEGRIA': 0.9998440742492676, 'MEDO': 5.553239316213876e-05},\n",
              " {'ALEGRIA': 0.9980411529541016, 'MEDO': 0.0014828169951215386},\n",
              " {'ALEGRIA': 0.9996790885925293, 'MEDO': 0.00019679978140629828},\n",
              " {'ALEGRIA': 0.9999256134033203, 'MEDO': 0.00024811580078676343},\n",
              " {'ALEGRIA': 0.99962317943573, 'MEDO': 0.0004329132498241961},\n",
              " {'ALEGRIA': 0.9997486472129822, 'MEDO': 0.00031149035203270614},\n",
              " {'ALEGRIA': 0.9993435740470886, 'MEDO': 0.0005336066242307425},\n",
              " {'ALEGRIA': 0.9998323917388916, 'MEDO': 4.539786823443137e-05},\n",
              " {'ALEGRIA': 0.9988213181495667, 'MEDO': 0.000498040986713022},\n",
              " {'ALEGRIA': 0.9991718530654907, 'MEDO': 0.0005245860666036606},\n",
              " {'ALEGRIA': 0.9993104934692383, 'MEDO': 0.0005607337807305157},\n",
              " {'ALEGRIA': 0.9996237754821777, 'MEDO': 0.00027765825507231057},\n",
              " {'ALEGRIA': 0.9983242154121399, 'MEDO': 0.0014327671378850937},\n",
              " {'ALEGRIA': 0.9996328353881836, 'MEDO': 0.00012018254346912727},\n",
              " {'ALEGRIA': 0.9998874664306641, 'MEDO': 0.0001938328059623018},\n",
              " {'ALEGRIA': 0.9996169805526733, 'MEDO': 0.00037361501017585397},\n",
              " {'ALEGRIA': 0.9996347427368164, 'MEDO': 0.0002925399749074131},\n",
              " {'ALEGRIA': 0.999363124370575, 'MEDO': 0.0003939031157642603},\n",
              " {'ALEGRIA': 0.9995912909507751, 'MEDO': 0.0005592587403953075},\n",
              " {'ALEGRIA': 0.9996274709701538, 'MEDO': 0.00023800010967534035},\n",
              " {'ALEGRIA': 0.9997040629386902, 'MEDO': 0.0001050588398356922},\n",
              " {'ALEGRIA': 0.9996210336685181, 'MEDO': 0.00043489239760674536},\n",
              " {'ALEGRIA': 0.9993942975997925, 'MEDO': 0.0002966565662063658},\n",
              " {'ALEGRIA': 0.999785840511322, 'MEDO': 0.0001897660840768367},\n",
              " {'ALEGRIA': 0.9994875192642212, 'MEDO': 0.00029312146943993866},\n",
              " {'ALEGRIA': 0.9996447563171387, 'MEDO': 0.000503995455801487},\n",
              " {'ALEGRIA': 0.999920129776001, 'MEDO': 0.00018528809596318752},\n",
              " {'ALEGRIA': 0.9998970031738281, 'MEDO': 5.255180076346733e-05},\n",
              " {'ALEGRIA': 0.999555766582489, 'MEDO': 0.00021280797955114394},\n",
              " {'ALEGRIA': 0.999663233757019, 'MEDO': 0.00043041183380410075},\n",
              " {'ALEGRIA': 0.9995601773262024, 'MEDO': 0.00020494259661063552},\n",
              " {'ALEGRIA': 0.9996059536933899, 'MEDO': 0.0001556909701321274},\n",
              " {'ALEGRIA': 0.9998099207878113, 'MEDO': 0.00012123202759539708},\n",
              " {'ALEGRIA': 0.999173104763031, 'MEDO': 0.00038106265128590167},\n",
              " {'ALEGRIA': 0.9995304346084595, 'MEDO': 0.0002330800489289686},\n",
              " {'ALEGRIA': 0.999434769153595, 'MEDO': 0.000330716633470729},\n",
              " {'ALEGRIA': 0.999438464641571, 'MEDO': 0.00047624821309000254},\n",
              " {'ALEGRIA': 0.9997774958610535, 'MEDO': 0.0001551749010104686},\n",
              " {'ALEGRIA': 0.9996258020401001, 'MEDO': 0.0004271107609383762},\n",
              " {'ALEGRIA': 0.9997469782829285, 'MEDO': 0.0003641407529357821},\n",
              " {'ALEGRIA': 0.9997996687889099, 'MEDO': 0.0003349715261720121},\n",
              " {'ALEGRIA': 0.00025060237385332584, 'MEDO': 0.9998242259025574},\n",
              " {'ALEGRIA': 0.00024677248438820243, 'MEDO': 0.9996473789215088},\n",
              " {'ALEGRIA': 0.0003777245292440057, 'MEDO': 0.9997459053993225},\n",
              " {'ALEGRIA': 0.00023481859534513205, 'MEDO': 0.9996283054351807},\n",
              " {'ALEGRIA': 0.00043992282007820904, 'MEDO': 0.9994476437568665},\n",
              " {'ALEGRIA': 0.00048693703138269484, 'MEDO': 0.9996125102043152},\n",
              " {'ALEGRIA': 0.0005342272343114018, 'MEDO': 0.9995161294937134},\n",
              " {'ALEGRIA': 0.0005217667785473168, 'MEDO': 0.9995371103286743},\n",
              " {'ALEGRIA': 0.00046606239629909396, 'MEDO': 0.9996110796928406},\n",
              " {'ALEGRIA': 0.0005250087706372142, 'MEDO': 0.9998732805252075},\n",
              " {'ALEGRIA': 8.050170436035842e-05, 'MEDO': 0.9997150301933289},\n",
              " {'ALEGRIA': 0.0005788849666714668, 'MEDO': 0.9996784925460815},\n",
              " {'ALEGRIA': 0.00047912143054418266, 'MEDO': 0.9998757839202881},\n",
              " {'ALEGRIA': 0.0005234397831372917, 'MEDO': 0.9995372295379639},\n",
              " {'ALEGRIA': 0.0006491217063739896, 'MEDO': 0.9994024038314819},\n",
              " {'ALEGRIA': 0.00036654359428212047, 'MEDO': 0.999663233757019},\n",
              " {'ALEGRIA': 0.00032948298030532897, 'MEDO': 0.9996335506439209},\n",
              " {'ALEGRIA': 0.000398688658606261, 'MEDO': 0.9998444318771362},\n",
              " {'ALEGRIA': 0.00018912267114501446, 'MEDO': 0.9998247027397156},\n",
              " {'ALEGRIA': 0.00037221304955892265, 'MEDO': 0.9997815489768982},\n",
              " {'ALEGRIA': 0.0005323612131178379, 'MEDO': 0.9995378255844116},\n",
              " {'ALEGRIA': 0.0003351088671479374, 'MEDO': 0.9996994733810425},\n",
              " {'ALEGRIA': 0.0008224933408200741, 'MEDO': 0.9994315505027771},\n",
              " {'ALEGRIA': 0.0005403977702371776, 'MEDO': 0.999561607837677},\n",
              " {'ALEGRIA': 0.0003389587509445846, 'MEDO': 0.999514102935791},\n",
              " {'ALEGRIA': 0.0003462227468844503, 'MEDO': 0.9995898604393005},\n",
              " {'ALEGRIA': 0.000256174651440233, 'MEDO': 0.9999176263809204},\n",
              " {'ALEGRIA': 0.0007861359044909477, 'MEDO': 0.9995379447937012},\n",
              " {'ALEGRIA': 0.00025578439817763865, 'MEDO': 0.9997257590293884},\n",
              " {'ALEGRIA': 0.00048825948033481836, 'MEDO': 0.9997835755348206},\n",
              " {'ALEGRIA': 0.00043476681457832456, 'MEDO': 0.9996393918991089},\n",
              " {'ALEGRIA': 0.0007722452282905579, 'MEDO': 0.9993330836296082},\n",
              " {'ALEGRIA': 0.00025165232364088297, 'MEDO': 0.9996403455734253},\n",
              " {'ALEGRIA': 0.0005411744932644069, 'MEDO': 0.9996579885482788},\n",
              " {'ALEGRIA': 0.00023185901227407157, 'MEDO': 0.999617338180542},\n",
              " {'ALEGRIA': 0.0004175652575213462, 'MEDO': 0.9996973276138306},\n",
              " {'ALEGRIA': 0.0002180764713557437, 'MEDO': 0.9998393058776855},\n",
              " {'ALEGRIA': 0.0002146444603567943, 'MEDO': 0.9996594190597534},\n",
              " {'ALEGRIA': 0.000618610589299351, 'MEDO': 0.9995716214179993},\n",
              " {'ALEGRIA': 0.0003396625106688589, 'MEDO': 0.9997044205665588},\n",
              " {'ALEGRIA': 0.00021143229969311506, 'MEDO': 0.9999277591705322},\n",
              " {'ALEGRIA': 0.0005239758756943047, 'MEDO': 0.9995799660682678},\n",
              " {'ALEGRIA': 0.0007045973325148225, 'MEDO': 0.9997190833091736},\n",
              " {'ALEGRIA': 0.0004204798024147749, 'MEDO': 0.9994206428527832},\n",
              " {'ALEGRIA': 0.0005275998264551163, 'MEDO': 0.9993995428085327},\n",
              " {'ALEGRIA': 0.0005269068060442805, 'MEDO': 0.9997037053108215},\n",
              " {'ALEGRIA': 0.000736340181902051, 'MEDO': 0.9995738863945007},\n",
              " {'ALEGRIA': 0.0009212426375597715, 'MEDO': 0.99908447265625},\n",
              " {'ALEGRIA': 0.0004712006193585694, 'MEDO': 0.999817430973053},\n",
              " {'ALEGRIA': 0.0005102967843413353, 'MEDO': 0.9996408224105835},\n",
              " {'ALEGRIA': 0.0004958789795637131, 'MEDO': 0.9994606375694275},\n",
              " {'ALEGRIA': 0.0006154892034828663, 'MEDO': 0.9997451901435852},\n",
              " {'ALEGRIA': 0.0003078930312767625, 'MEDO': 0.9997342228889465},\n",
              " {'ALEGRIA': 0.0006272331811487675, 'MEDO': 0.9997065663337708},\n",
              " {'ALEGRIA': 0.00010953060700558126, 'MEDO': 0.9998225569725037},\n",
              " {'ALEGRIA': 0.0006257765926420689, 'MEDO': 0.9996824264526367},\n",
              " {'ALEGRIA': 0.00017281393229495734, 'MEDO': 0.9998100399971008},\n",
              " {'ALEGRIA': 0.0005540242418646812, 'MEDO': 0.9996944665908813},\n",
              " {'ALEGRIA': 0.000587853544857353, 'MEDO': 0.9995893836021423},\n",
              " {'ALEGRIA': 0.0004366481152828783, 'MEDO': 0.9995338916778564},\n",
              " {'ALEGRIA': 0.00042931604548357427, 'MEDO': 0.999473512172699},\n",
              " {'ALEGRIA': 0.0003424014721531421, 'MEDO': 0.9995998740196228},\n",
              " {'ALEGRIA': 0.0001588169252499938, 'MEDO': 0.9998088479042053},\n",
              " {'ALEGRIA': 0.00035736322752200067, 'MEDO': 0.9995065927505493},\n",
              " {'ALEGRIA': 0.0008274666615761817, 'MEDO': 0.9994940757751465},\n",
              " {'ALEGRIA': 0.0002833906328305602, 'MEDO': 0.9997097849845886},\n",
              " {'ALEGRIA': 0.0004217925597913563, 'MEDO': 0.9994774460792542},\n",
              " {'ALEGRIA': 0.0017968957545235753, 'MEDO': 0.998675525188446},\n",
              " {'ALEGRIA': 0.00039930580533109605, 'MEDO': 0.999591052532196},\n",
              " {'ALEGRIA': 0.0004432671994436532, 'MEDO': 0.9995255470275879},\n",
              " {'ALEGRIA': 0.00047020299825817347, 'MEDO': 0.9994775652885437},\n",
              " {'ALEGRIA': 0.0003513327392283827, 'MEDO': 0.9998413324356079},\n",
              " {'ALEGRIA': 0.0001397219893988222, 'MEDO': 0.9998553991317749},\n",
              " {'ALEGRIA': 0.0004198822134640068, 'MEDO': 0.9996758699417114},\n",
              " {'ALEGRIA': 0.0012289463775232434, 'MEDO': 0.9991592168807983},\n",
              " {'ALEGRIA': 0.0004133190377615392, 'MEDO': 0.9995296001434326},\n",
              " {'ALEGRIA': 0.0008323483634740114, 'MEDO': 0.9994489550590515},\n",
              " {'ALEGRIA': 0.00025213576736859977, 'MEDO': 0.9996933937072754},\n",
              " {'ALEGRIA': 0.0003857985429931432, 'MEDO': 0.9992590546607971},\n",
              " {'ALEGRIA': 0.0007030870765447617, 'MEDO': 0.9996570348739624},\n",
              " {'ALEGRIA': 0.0005372946034185588, 'MEDO': 0.999601423740387},\n",
              " {'ALEGRIA': 0.0016375568229705095, 'MEDO': 0.9987602233886719},\n",
              " {'ALEGRIA': 0.0012445410247892141, 'MEDO': 0.9988086223602295},\n",
              " {'ALEGRIA': 0.0004817778244614601, 'MEDO': 0.9995741248130798}]"
            ]
          },
          "metadata": {},
          "execution_count": 49
        }
      ]
    },
    {
      "cell_type": "code",
      "source": [
        "previsoes_final = []\n",
        "for previsao in previsoes:\n",
        "  if previsao['ALEGRIA'] > previsao['MEDO']:\n",
        "    previsoes_final.append('alegria')\n",
        "  else:\n",
        "    previsoes_final.append('medo')\n",
        "\n",
        "previsoes_final = np.array(previsoes_final)"
      ],
      "metadata": {
        "id": "g2kdTnUFIMpk"
      },
      "execution_count": 50,
      "outputs": []
    },
    {
      "cell_type": "code",
      "source": [
        "previsoes_final"
      ],
      "metadata": {
        "colab": {
          "base_uri": "https://localhost:8080/"
        },
        "id": "JqxzontnIpst",
        "outputId": "0800c289-bb87-4f71-e833-da70219c8954"
      },
      "execution_count": 51,
      "outputs": [
        {
          "output_type": "execute_result",
          "data": {
            "text/plain": [
              "array(['alegria', 'alegria', 'alegria', 'alegria', 'alegria', 'alegria',\n",
              "       'alegria', 'alegria', 'alegria', 'alegria', 'alegria', 'alegria',\n",
              "       'alegria', 'alegria', 'alegria', 'alegria', 'alegria', 'alegria',\n",
              "       'alegria', 'alegria', 'alegria', 'alegria', 'alegria', 'alegria',\n",
              "       'alegria', 'alegria', 'alegria', 'alegria', 'alegria', 'alegria',\n",
              "       'alegria', 'alegria', 'alegria', 'alegria', 'alegria', 'alegria',\n",
              "       'alegria', 'alegria', 'alegria', 'alegria', 'alegria', 'alegria',\n",
              "       'alegria', 'alegria', 'alegria', 'alegria', 'alegria', 'alegria',\n",
              "       'alegria', 'alegria', 'alegria', 'alegria', 'alegria', 'alegria',\n",
              "       'alegria', 'alegria', 'alegria', 'alegria', 'alegria', 'alegria',\n",
              "       'alegria', 'alegria', 'alegria', 'alegria', 'alegria', 'alegria',\n",
              "       'alegria', 'alegria', 'alegria', 'alegria', 'alegria', 'alegria',\n",
              "       'alegria', 'alegria', 'alegria', 'alegria', 'alegria', 'alegria',\n",
              "       'alegria', 'alegria', 'alegria', 'alegria', 'alegria', 'alegria',\n",
              "       'alegria', 'alegria', 'alegria', 'alegria', 'alegria', 'alegria',\n",
              "       'alegria', 'alegria', 'alegria', 'alegria', 'alegria', 'alegria',\n",
              "       'alegria', 'alegria', 'alegria', 'alegria', 'alegria', 'alegria',\n",
              "       'alegria', 'alegria', 'alegria', 'alegria', 'alegria', 'alegria',\n",
              "       'alegria', 'alegria', 'alegria', 'alegria', 'medo', 'medo', 'medo',\n",
              "       'medo', 'medo', 'medo', 'medo', 'medo', 'medo', 'medo', 'medo',\n",
              "       'medo', 'medo', 'medo', 'medo', 'medo', 'medo', 'medo', 'medo',\n",
              "       'medo', 'medo', 'medo', 'medo', 'medo', 'medo', 'medo', 'medo',\n",
              "       'medo', 'medo', 'medo', 'medo', 'medo', 'medo', 'medo', 'medo',\n",
              "       'medo', 'medo', 'medo', 'medo', 'medo', 'medo', 'medo', 'medo',\n",
              "       'medo', 'medo', 'medo', 'medo', 'medo', 'medo', 'medo', 'medo',\n",
              "       'medo', 'medo', 'medo', 'medo', 'medo', 'medo', 'medo', 'medo',\n",
              "       'medo', 'medo', 'medo', 'medo', 'medo', 'medo', 'medo', 'medo',\n",
              "       'medo', 'medo', 'medo', 'medo', 'medo', 'medo', 'medo', 'medo',\n",
              "       'medo', 'medo', 'medo', 'medo', 'medo', 'medo', 'medo', 'medo',\n",
              "       'medo'], dtype='<U7')"
            ]
          },
          "metadata": {},
          "execution_count": 51
        }
      ]
    },
    {
      "cell_type": "code",
      "source": [
        "respostas_reais = base_dados['emocao'].values\n",
        "respostas_reais"
      ],
      "metadata": {
        "colab": {
          "base_uri": "https://localhost:8080/"
        },
        "id": "c4nAn6bNIyw9",
        "outputId": "6b73250a-c2ea-41ac-fb5c-d8c798c916c5"
      },
      "execution_count": 52,
      "outputs": [
        {
          "output_type": "execute_result",
          "data": {
            "text/plain": [
              "array(['alegria', 'alegria', 'alegria', 'alegria', 'alegria', 'alegria',\n",
              "       'alegria', 'alegria', 'alegria', 'alegria', 'alegria', 'alegria',\n",
              "       'alegria', 'alegria', 'alegria', 'alegria', 'alegria', 'alegria',\n",
              "       'alegria', 'alegria', 'alegria', 'alegria', 'alegria', 'alegria',\n",
              "       'alegria', 'alegria', 'alegria', 'alegria', 'alegria', 'alegria',\n",
              "       'alegria', 'alegria', 'alegria', 'alegria', 'alegria', 'alegria',\n",
              "       'alegria', 'alegria', 'alegria', 'alegria', 'alegria', 'alegria',\n",
              "       'alegria', 'alegria', 'alegria', 'alegria', 'alegria', 'alegria',\n",
              "       'alegria', 'alegria', 'alegria', 'alegria', 'alegria', 'alegria',\n",
              "       'alegria', 'alegria', 'alegria', 'alegria', 'alegria', 'alegria',\n",
              "       'alegria', 'alegria', 'alegria', 'alegria', 'alegria', 'alegria',\n",
              "       'alegria', 'alegria', 'alegria', 'alegria', 'alegria', 'alegria',\n",
              "       'alegria', 'alegria', 'alegria', 'alegria', 'alegria', 'alegria',\n",
              "       'alegria', 'alegria', 'alegria', 'alegria', 'alegria', 'alegria',\n",
              "       'alegria', 'alegria', 'alegria', 'alegria', 'alegria', 'alegria',\n",
              "       'alegria', 'alegria', 'alegria', 'alegria', 'alegria', 'alegria',\n",
              "       'alegria', 'alegria', 'alegria', 'alegria', 'alegria', 'alegria',\n",
              "       'alegria', 'alegria', 'alegria', 'alegria', 'alegria', 'alegria',\n",
              "       'alegria', 'alegria', 'alegria', 'alegria', 'medo', 'medo', 'medo',\n",
              "       'medo', 'medo', 'medo', 'medo', 'medo', 'medo', 'medo', 'medo',\n",
              "       'medo', 'medo', 'medo', 'medo', 'medo', 'medo', 'medo', 'medo',\n",
              "       'medo', 'medo', 'medo', 'medo', 'medo', 'medo', 'medo', 'medo',\n",
              "       'medo', 'medo', 'medo', 'medo', 'medo', 'medo', 'medo', 'medo',\n",
              "       'medo', 'medo', 'medo', 'medo', 'medo', 'medo', 'medo', 'medo',\n",
              "       'medo', 'medo', 'medo', 'medo', 'medo', 'medo', 'medo', 'medo',\n",
              "       'medo', 'medo', 'medo', 'medo', 'medo', 'medo', 'medo', 'medo',\n",
              "       'medo', 'medo', 'medo', 'medo', 'medo', 'medo', 'medo', 'medo',\n",
              "       'medo', 'medo', 'medo', 'medo', 'medo', 'medo', 'medo', 'medo',\n",
              "       'medo', 'medo', 'medo', 'medo', 'medo', 'medo', 'medo', 'medo',\n",
              "       'medo'], dtype=object)"
            ]
          },
          "metadata": {},
          "execution_count": 52
        }
      ]
    },
    {
      "cell_type": "code",
      "source": [
        "from sklearn.metrics import confusion_matrix, accuracy_score"
      ],
      "metadata": {
        "id": "lHUpB-1hI5-4"
      },
      "execution_count": 53,
      "outputs": []
    },
    {
      "cell_type": "code",
      "source": [
        "accuracy_score(respostas_reais, previsoes_final)"
      ],
      "metadata": {
        "colab": {
          "base_uri": "https://localhost:8080/"
        },
        "id": "9Vb56oLeJXib",
        "outputId": "d5537f1c-093c-4bd2-c542-80ef99ca5f9a"
      },
      "execution_count": 54,
      "outputs": [
        {
          "output_type": "execute_result",
          "data": {
            "text/plain": [
              "1.0"
            ]
          },
          "metadata": {},
          "execution_count": 54
        }
      ]
    },
    {
      "cell_type": "code",
      "source": [
        "cm = confusion_matrix(respostas_reais, previsoes_final)\n",
        "cm"
      ],
      "metadata": {
        "colab": {
          "base_uri": "https://localhost:8080/"
        },
        "id": "-gxpfucvJc56",
        "outputId": "ca01e679-c2a2-43da-ae01-be94c24f942a"
      },
      "execution_count": 55,
      "outputs": [
        {
          "output_type": "execute_result",
          "data": {
            "text/plain": [
              "array([[112,   0],\n",
              "       [  0,  84]])"
            ]
          },
          "metadata": {},
          "execution_count": 55
        }
      ]
    },
    {
      "cell_type": "markdown",
      "source": [
        "## Avaliação na base de teste"
      ],
      "metadata": {
        "id": "Ve2SPWuqP52p"
      }
    },
    {
      "cell_type": "code",
      "source": [
        "base_dados_teste = pd.read_csv('/content/base_teste.txt', encoding = 'utf-8')"
      ],
      "metadata": {
        "id": "7sYt9ZBMJoqV"
      },
      "execution_count": 56,
      "outputs": []
    },
    {
      "cell_type": "code",
      "source": [
        "base_dados_teste.head()"
      ],
      "metadata": {
        "colab": {
          "base_uri": "https://localhost:8080/",
          "height": 206
        },
        "id": "nup-w0obQWcm",
        "outputId": "ef022e80-0df8-46fb-9951-d94e1bb63f4a"
      },
      "execution_count": 58,
      "outputs": [
        {
          "output_type": "execute_result",
          "data": {
            "text/plain": [
              "                                    texto   emocao\n",
              "0           não precisei pagar o ingresso  alegria\n",
              "1             se eu ajeitar tudo fica bem  alegria\n",
              "2        minha fortuna ultrapassará a sua  alegria\n",
              "3                    sou muito afortunado  alegria\n",
              "4  é benéfico para todos esta nova medida  alegria"
            ],
            "text/html": [
              "\n",
              "  <div id=\"df-420b3ba3-02a5-4e75-bae2-847d29c0fc0a\">\n",
              "    <div class=\"colab-df-container\">\n",
              "      <div>\n",
              "<style scoped>\n",
              "    .dataframe tbody tr th:only-of-type {\n",
              "        vertical-align: middle;\n",
              "    }\n",
              "\n",
              "    .dataframe tbody tr th {\n",
              "        vertical-align: top;\n",
              "    }\n",
              "\n",
              "    .dataframe thead th {\n",
              "        text-align: right;\n",
              "    }\n",
              "</style>\n",
              "<table border=\"1\" class=\"dataframe\">\n",
              "  <thead>\n",
              "    <tr style=\"text-align: right;\">\n",
              "      <th></th>\n",
              "      <th>texto</th>\n",
              "      <th>emocao</th>\n",
              "    </tr>\n",
              "  </thead>\n",
              "  <tbody>\n",
              "    <tr>\n",
              "      <th>0</th>\n",
              "      <td>não precisei pagar o ingresso</td>\n",
              "      <td>alegria</td>\n",
              "    </tr>\n",
              "    <tr>\n",
              "      <th>1</th>\n",
              "      <td>se eu ajeitar tudo fica bem</td>\n",
              "      <td>alegria</td>\n",
              "    </tr>\n",
              "    <tr>\n",
              "      <th>2</th>\n",
              "      <td>minha fortuna ultrapassará a sua</td>\n",
              "      <td>alegria</td>\n",
              "    </tr>\n",
              "    <tr>\n",
              "      <th>3</th>\n",
              "      <td>sou muito afortunado</td>\n",
              "      <td>alegria</td>\n",
              "    </tr>\n",
              "    <tr>\n",
              "      <th>4</th>\n",
              "      <td>é benéfico para todos esta nova medida</td>\n",
              "      <td>alegria</td>\n",
              "    </tr>\n",
              "  </tbody>\n",
              "</table>\n",
              "</div>\n",
              "      <button class=\"colab-df-convert\" onclick=\"convertToInteractive('df-420b3ba3-02a5-4e75-bae2-847d29c0fc0a')\"\n",
              "              title=\"Convert this dataframe to an interactive table.\"\n",
              "              style=\"display:none;\">\n",
              "        \n",
              "  <svg xmlns=\"http://www.w3.org/2000/svg\" height=\"24px\"viewBox=\"0 0 24 24\"\n",
              "       width=\"24px\">\n",
              "    <path d=\"M0 0h24v24H0V0z\" fill=\"none\"/>\n",
              "    <path d=\"M18.56 5.44l.94 2.06.94-2.06 2.06-.94-2.06-.94-.94-2.06-.94 2.06-2.06.94zm-11 1L8.5 8.5l.94-2.06 2.06-.94-2.06-.94L8.5 2.5l-.94 2.06-2.06.94zm10 10l.94 2.06.94-2.06 2.06-.94-2.06-.94-.94-2.06-.94 2.06-2.06.94z\"/><path d=\"M17.41 7.96l-1.37-1.37c-.4-.4-.92-.59-1.43-.59-.52 0-1.04.2-1.43.59L10.3 9.45l-7.72 7.72c-.78.78-.78 2.05 0 2.83L4 21.41c.39.39.9.59 1.41.59.51 0 1.02-.2 1.41-.59l7.78-7.78 2.81-2.81c.8-.78.8-2.07 0-2.86zM5.41 20L4 18.59l7.72-7.72 1.47 1.35L5.41 20z\"/>\n",
              "  </svg>\n",
              "      </button>\n",
              "      \n",
              "  <style>\n",
              "    .colab-df-container {\n",
              "      display:flex;\n",
              "      flex-wrap:wrap;\n",
              "      gap: 12px;\n",
              "    }\n",
              "\n",
              "    .colab-df-convert {\n",
              "      background-color: #E8F0FE;\n",
              "      border: none;\n",
              "      border-radius: 50%;\n",
              "      cursor: pointer;\n",
              "      display: none;\n",
              "      fill: #1967D2;\n",
              "      height: 32px;\n",
              "      padding: 0 0 0 0;\n",
              "      width: 32px;\n",
              "    }\n",
              "\n",
              "    .colab-df-convert:hover {\n",
              "      background-color: #E2EBFA;\n",
              "      box-shadow: 0px 1px 2px rgba(60, 64, 67, 0.3), 0px 1px 3px 1px rgba(60, 64, 67, 0.15);\n",
              "      fill: #174EA6;\n",
              "    }\n",
              "\n",
              "    [theme=dark] .colab-df-convert {\n",
              "      background-color: #3B4455;\n",
              "      fill: #D2E3FC;\n",
              "    }\n",
              "\n",
              "    [theme=dark] .colab-df-convert:hover {\n",
              "      background-color: #434B5C;\n",
              "      box-shadow: 0px 1px 3px 1px rgba(0, 0, 0, 0.15);\n",
              "      filter: drop-shadow(0px 1px 2px rgba(0, 0, 0, 0.3));\n",
              "      fill: #FFFFFF;\n",
              "    }\n",
              "  </style>\n",
              "\n",
              "      <script>\n",
              "        const buttonEl =\n",
              "          document.querySelector('#df-420b3ba3-02a5-4e75-bae2-847d29c0fc0a button.colab-df-convert');\n",
              "        buttonEl.style.display =\n",
              "          google.colab.kernel.accessAllowed ? 'block' : 'none';\n",
              "\n",
              "        async function convertToInteractive(key) {\n",
              "          const element = document.querySelector('#df-420b3ba3-02a5-4e75-bae2-847d29c0fc0a');\n",
              "          const dataTable =\n",
              "            await google.colab.kernel.invokeFunction('convertToInteractive',\n",
              "                                                     [key], {});\n",
              "          if (!dataTable) return;\n",
              "\n",
              "          const docLinkHtml = 'Like what you see? Visit the ' +\n",
              "            '<a target=\"_blank\" href=https://colab.research.google.com/notebooks/data_table.ipynb>data table notebook</a>'\n",
              "            + ' to learn more about interactive tables.';\n",
              "          element.innerHTML = '';\n",
              "          dataTable['output_type'] = 'display_data';\n",
              "          await google.colab.output.renderOutput(dataTable, element);\n",
              "          const docLink = document.createElement('div');\n",
              "          docLink.innerHTML = docLinkHtml;\n",
              "          element.appendChild(docLink);\n",
              "        }\n",
              "      </script>\n",
              "    </div>\n",
              "  </div>\n",
              "  "
            ]
          },
          "metadata": {},
          "execution_count": 58
        }
      ]
    },
    {
      "cell_type": "code",
      "source": [
        "base_dados_teste['texto'] = base_dados_teste['texto'].apply(pre_processamento)"
      ],
      "metadata": {
        "id": "lkufqa6jQerv"
      },
      "execution_count": 59,
      "outputs": []
    },
    {
      "cell_type": "code",
      "source": [
        "base_dados_teste.head()"
      ],
      "metadata": {
        "colab": {
          "base_uri": "https://localhost:8080/",
          "height": 206
        },
        "id": "4HYfyqNSmnc1",
        "outputId": "8c071c19-bb67-4f66-b9b4-2475bc8d5a3d"
      },
      "execution_count": 60,
      "outputs": [
        {
          "output_type": "execute_result",
          "data": {
            "text/plain": [
              "                        texto   emocao\n",
              "0  precisar pagar o ingressar  alegria\n",
              "1               ajeitar ficar  alegria\n",
              "2  fortuna ultrapassar o suar  alegria\n",
              "3                   afortunar  alegria\n",
              "4        benéfico parir medir  alegria"
            ],
            "text/html": [
              "\n",
              "  <div id=\"df-bfd41212-3f15-46f2-92cb-288194890c8c\">\n",
              "    <div class=\"colab-df-container\">\n",
              "      <div>\n",
              "<style scoped>\n",
              "    .dataframe tbody tr th:only-of-type {\n",
              "        vertical-align: middle;\n",
              "    }\n",
              "\n",
              "    .dataframe tbody tr th {\n",
              "        vertical-align: top;\n",
              "    }\n",
              "\n",
              "    .dataframe thead th {\n",
              "        text-align: right;\n",
              "    }\n",
              "</style>\n",
              "<table border=\"1\" class=\"dataframe\">\n",
              "  <thead>\n",
              "    <tr style=\"text-align: right;\">\n",
              "      <th></th>\n",
              "      <th>texto</th>\n",
              "      <th>emocao</th>\n",
              "    </tr>\n",
              "  </thead>\n",
              "  <tbody>\n",
              "    <tr>\n",
              "      <th>0</th>\n",
              "      <td>precisar pagar o ingressar</td>\n",
              "      <td>alegria</td>\n",
              "    </tr>\n",
              "    <tr>\n",
              "      <th>1</th>\n",
              "      <td>ajeitar ficar</td>\n",
              "      <td>alegria</td>\n",
              "    </tr>\n",
              "    <tr>\n",
              "      <th>2</th>\n",
              "      <td>fortuna ultrapassar o suar</td>\n",
              "      <td>alegria</td>\n",
              "    </tr>\n",
              "    <tr>\n",
              "      <th>3</th>\n",
              "      <td>afortunar</td>\n",
              "      <td>alegria</td>\n",
              "    </tr>\n",
              "    <tr>\n",
              "      <th>4</th>\n",
              "      <td>benéfico parir medir</td>\n",
              "      <td>alegria</td>\n",
              "    </tr>\n",
              "  </tbody>\n",
              "</table>\n",
              "</div>\n",
              "      <button class=\"colab-df-convert\" onclick=\"convertToInteractive('df-bfd41212-3f15-46f2-92cb-288194890c8c')\"\n",
              "              title=\"Convert this dataframe to an interactive table.\"\n",
              "              style=\"display:none;\">\n",
              "        \n",
              "  <svg xmlns=\"http://www.w3.org/2000/svg\" height=\"24px\"viewBox=\"0 0 24 24\"\n",
              "       width=\"24px\">\n",
              "    <path d=\"M0 0h24v24H0V0z\" fill=\"none\"/>\n",
              "    <path d=\"M18.56 5.44l.94 2.06.94-2.06 2.06-.94-2.06-.94-.94-2.06-.94 2.06-2.06.94zm-11 1L8.5 8.5l.94-2.06 2.06-.94-2.06-.94L8.5 2.5l-.94 2.06-2.06.94zm10 10l.94 2.06.94-2.06 2.06-.94-2.06-.94-.94-2.06-.94 2.06-2.06.94z\"/><path d=\"M17.41 7.96l-1.37-1.37c-.4-.4-.92-.59-1.43-.59-.52 0-1.04.2-1.43.59L10.3 9.45l-7.72 7.72c-.78.78-.78 2.05 0 2.83L4 21.41c.39.39.9.59 1.41.59.51 0 1.02-.2 1.41-.59l7.78-7.78 2.81-2.81c.8-.78.8-2.07 0-2.86zM5.41 20L4 18.59l7.72-7.72 1.47 1.35L5.41 20z\"/>\n",
              "  </svg>\n",
              "      </button>\n",
              "      \n",
              "  <style>\n",
              "    .colab-df-container {\n",
              "      display:flex;\n",
              "      flex-wrap:wrap;\n",
              "      gap: 12px;\n",
              "    }\n",
              "\n",
              "    .colab-df-convert {\n",
              "      background-color: #E8F0FE;\n",
              "      border: none;\n",
              "      border-radius: 50%;\n",
              "      cursor: pointer;\n",
              "      display: none;\n",
              "      fill: #1967D2;\n",
              "      height: 32px;\n",
              "      padding: 0 0 0 0;\n",
              "      width: 32px;\n",
              "    }\n",
              "\n",
              "    .colab-df-convert:hover {\n",
              "      background-color: #E2EBFA;\n",
              "      box-shadow: 0px 1px 2px rgba(60, 64, 67, 0.3), 0px 1px 3px 1px rgba(60, 64, 67, 0.15);\n",
              "      fill: #174EA6;\n",
              "    }\n",
              "\n",
              "    [theme=dark] .colab-df-convert {\n",
              "      background-color: #3B4455;\n",
              "      fill: #D2E3FC;\n",
              "    }\n",
              "\n",
              "    [theme=dark] .colab-df-convert:hover {\n",
              "      background-color: #434B5C;\n",
              "      box-shadow: 0px 1px 3px 1px rgba(0, 0, 0, 0.15);\n",
              "      filter: drop-shadow(0px 1px 2px rgba(0, 0, 0, 0.3));\n",
              "      fill: #FFFFFF;\n",
              "    }\n",
              "  </style>\n",
              "\n",
              "      <script>\n",
              "        const buttonEl =\n",
              "          document.querySelector('#df-bfd41212-3f15-46f2-92cb-288194890c8c button.colab-df-convert');\n",
              "        buttonEl.style.display =\n",
              "          google.colab.kernel.accessAllowed ? 'block' : 'none';\n",
              "\n",
              "        async function convertToInteractive(key) {\n",
              "          const element = document.querySelector('#df-bfd41212-3f15-46f2-92cb-288194890c8c');\n",
              "          const dataTable =\n",
              "            await google.colab.kernel.invokeFunction('convertToInteractive',\n",
              "                                                     [key], {});\n",
              "          if (!dataTable) return;\n",
              "\n",
              "          const docLinkHtml = 'Like what you see? Visit the ' +\n",
              "            '<a target=\"_blank\" href=https://colab.research.google.com/notebooks/data_table.ipynb>data table notebook</a>'\n",
              "            + ' to learn more about interactive tables.';\n",
              "          element.innerHTML = '';\n",
              "          dataTable['output_type'] = 'display_data';\n",
              "          await google.colab.output.renderOutput(dataTable, element);\n",
              "          const docLink = document.createElement('div');\n",
              "          docLink.innerHTML = docLinkHtml;\n",
              "          element.appendChild(docLink);\n",
              "        }\n",
              "      </script>\n",
              "    </div>\n",
              "  </div>\n",
              "  "
            ]
          },
          "metadata": {},
          "execution_count": 60
        }
      ]
    },
    {
      "cell_type": "code",
      "source": [
        "previsoes = []\n",
        "for texto in base_dados_teste['texto']:\n",
        "  #print(texto)\n",
        "  previsao = modelo_carregado(texto)\n",
        "  previsoes.append(previsao.cats)"
      ],
      "metadata": {
        "id": "XGQN7lQSmpWi"
      },
      "execution_count": 61,
      "outputs": []
    },
    {
      "cell_type": "code",
      "source": [
        "previsoes_final = []\n",
        "for previsao in previsoes:\n",
        "  if previsao['ALEGRIA'] > previsao['MEDO']:\n",
        "    previsoes_final.append('alegria')\n",
        "  else:\n",
        "    previsoes_final.append('medo')\n",
        "\n",
        "previsoes_final = np.array(previsoes_final)"
      ],
      "metadata": {
        "id": "cy03Po_im3_G"
      },
      "execution_count": 62,
      "outputs": []
    },
    {
      "cell_type": "code",
      "source": [
        "respostas_reais = base_dados_teste['emocao'].values\n"
      ],
      "metadata": {
        "id": "yGWS5GPWm8pD"
      },
      "execution_count": 63,
      "outputs": []
    },
    {
      "cell_type": "code",
      "source": [
        "accuracy_score(respostas_reais, previsoes_final)"
      ],
      "metadata": {
        "colab": {
          "base_uri": "https://localhost:8080/"
        },
        "id": "GbASmKYBnCF2",
        "outputId": "e19d3711-150c-466c-e3c7-fa37c346582b"
      },
      "execution_count": 64,
      "outputs": [
        {
          "output_type": "execute_result",
          "data": {
            "text/plain": [
              "0.5357142857142857"
            ]
          },
          "metadata": {},
          "execution_count": 64
        }
      ]
    },
    {
      "cell_type": "code",
      "source": [
        "cm = confusion_matrix(respostas_reais, previsoes_final)\n",
        "cm"
      ],
      "metadata": {
        "colab": {
          "base_uri": "https://localhost:8080/"
        },
        "id": "W1h34IggnKCj",
        "outputId": "b505ae59-b85a-4264-904b-532b13d700e3"
      },
      "execution_count": 65,
      "outputs": [
        {
          "output_type": "execute_result",
          "data": {
            "text/plain": [
              "array([[33, 15],\n",
              "       [24, 12]])"
            ]
          },
          "metadata": {},
          "execution_count": 65
        }
      ]
    },
    {
      "cell_type": "code",
      "source": [
        ""
      ],
      "metadata": {
        "id": "4Na0Y2aqnLWZ"
      },
      "execution_count": null,
      "outputs": []
    }
  ]
}