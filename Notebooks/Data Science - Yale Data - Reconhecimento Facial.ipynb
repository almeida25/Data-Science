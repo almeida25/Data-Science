{
  "nbformat": 4,
  "nbformat_minor": 0,
  "metadata": {
    "colab": {
      "name": "Data Science - Yale Data - Reconhecimento Facial.ipynb",
      "provenance": [],
      "collapsed_sections": []
    },
    "kernelspec": {
      "name": "python3",
      "display_name": "Python 3"
    },
    "language_info": {
      "name": "python"
    }
  },
  "cells": [
    {
      "cell_type": "markdown",
      "source": [
        "# Importação das bibliotecas básicas"
      ],
      "metadata": {
        "id": "2T4xDil6coIS"
      }
    },
    {
      "cell_type": "code",
      "source": [
        "from PIL import Image\n",
        "import numpy as np\n",
        "import cv2\n",
        "from google.colab.patches import cv2_imshow"
      ],
      "metadata": {
        "id": "STh8n54jcqoc"
      },
      "execution_count": 32,
      "outputs": []
    },
    {
      "cell_type": "markdown",
      "source": [
        "## Treinamento"
      ],
      "metadata": {
        "id": "MLT9673ic6LK"
      }
    },
    {
      "cell_type": "code",
      "source": [
        "import zipfile"
      ],
      "metadata": {
        "id": "1gEvW5Pgc8ZB"
      },
      "execution_count": 16,
      "outputs": []
    },
    {
      "cell_type": "code",
      "source": [
        "path = '/content/yalefaces.zip'\n",
        "zip_object = zipfile.ZipFile(file=path, mode='r')\n",
        "zip_object.extractall('./')\n",
        "zip_object.close()"
      ],
      "metadata": {
        "id": "5ytzn7VJhEwR"
      },
      "execution_count": 45,
      "outputs": []
    },
    {
      "cell_type": "code",
      "source": [
        "import os"
      ],
      "metadata": {
        "id": "7fbAZi6tsTig"
      },
      "execution_count": 46,
      "outputs": []
    },
    {
      "cell_type": "code",
      "source": [
        "def dados_imagem():\n",
        "  caminhos = [os.path.join('/content/yalefaces/train', f) for f in os.listdir('/content/yalefaces/train')]\n",
        "  faces = []\n",
        "  ids = []\n",
        "  for caminho in caminhos:\n",
        "    imagem = Image.open(caminho).convert('L')\n",
        "    imagem_np = np.array(imagem,'uint8')\n",
        "    id = int(os.path.split(caminho)[1].split('.')[0].replace('subject', ''))\n",
        "    ids.append(id)\n",
        "    faces.append(imagem_np)\n",
        "  return np.array(ids), faces"
      ],
      "metadata": {
        "id": "YbLkfEyvmtZR"
      },
      "execution_count": 68,
      "outputs": []
    },
    {
      "cell_type": "code",
      "source": [
        "ids, faces = dados_imagem()"
      ],
      "metadata": {
        "id": "ufuzn5rmtFAE"
      },
      "execution_count": 69,
      "outputs": []
    },
    {
      "cell_type": "code",
      "source": [
        "faces[0]"
      ],
      "metadata": {
        "colab": {
          "base_uri": "https://localhost:8080/"
        },
        "id": "59Bf4HZhtHkH",
        "outputId": "c0cb6b9d-7e4f-4642-bb8d-7ff8c6f2f7fd"
      },
      "execution_count": 70,
      "outputs": [
        {
          "output_type": "execute_result",
          "data": {
            "text/plain": [
              "array([[130, 130, 130, ..., 255, 255, 255],\n",
              "       [255, 255, 255, ..., 255, 255, 255],\n",
              "       [255, 255, 255, ..., 255, 255, 255],\n",
              "       ...,\n",
              "       [255, 255, 255, ..., 201, 193, 196],\n",
              "       [255, 255, 255, ..., 217, 209, 218],\n",
              "       [ 68,  68,  68, ...,  68,  68,  68]], dtype=uint8)"
            ]
          },
          "metadata": {},
          "execution_count": 70
        }
      ]
    },
    {
      "cell_type": "code",
      "source": [
        "lbph = cv2.face.LBPHFaceRecognizer_create()\n",
        "lbph.train(faces, ids)\n",
        "lbph.write('classificadorLBPH.yml')"
      ],
      "metadata": {
        "id": "g5QVTO7vtYRi"
      },
      "execution_count": 71,
      "outputs": []
    },
    {
      "cell_type": "markdown",
      "source": [
        "## Classificação"
      ],
      "metadata": {
        "id": "7vmV8YY3uHc0"
      }
    },
    {
      "cell_type": "code",
      "source": [
        "reconhecedor = cv2.face.LBPHFaceRecognizer_create()\n",
        "reconhecedor.read('/content/classificadorLBPH.yml')\n"
      ],
      "metadata": {
        "id": "XjJVix4at-pF"
      },
      "execution_count": 72,
      "outputs": []
    },
    {
      "cell_type": "code",
      "source": [
        "imagem_teste = '/content/yalefaces/test/subject11.happy.gif'"
      ],
      "metadata": {
        "id": "9mOLCQ4auWM_"
      },
      "execution_count": 78,
      "outputs": []
    },
    {
      "cell_type": "code",
      "source": [
        "imagem = Image.open(imagem_teste).convert('L')\n",
        "imagem_np = np.array(imagem, 'uint8')\n",
        "print(imagem_np)"
      ],
      "metadata": {
        "colab": {
          "base_uri": "https://localhost:8080/"
        },
        "id": "Yqu39OF2ubln",
        "outputId": "bc97d292-02b8-4bd9-f4ab-a4e9f37bf60c"
      },
      "execution_count": 79,
      "outputs": [
        {
          "output_type": "stream",
          "name": "stdout",
          "text": [
            "[[130 130 130 ... 255 255 255]\n",
            " [255 255 255 ... 255 255 255]\n",
            " [255 255 255 ... 255 255 255]\n",
            " ...\n",
            " [255 255 255 ... 182 175 158]\n",
            " [246 246 245 ... 168 173 179]\n",
            " [ 68  68  68 ...  68  68  68]]\n"
          ]
        }
      ]
    },
    {
      "cell_type": "code",
      "source": [
        "idprevisto, _ = reconhecedor.predict(imagem_np)\n",
        "idprevisto"
      ],
      "metadata": {
        "colab": {
          "base_uri": "https://localhost:8080/"
        },
        "id": "aFmBvTSeulIr",
        "outputId": "6f3770cb-bbf3-4f70-dce9-ed0534bf2c99"
      },
      "execution_count": 80,
      "outputs": [
        {
          "output_type": "execute_result",
          "data": {
            "text/plain": [
              "11"
            ]
          },
          "metadata": {},
          "execution_count": 80
        }
      ]
    },
    {
      "cell_type": "code",
      "source": [
        "idcorreto = int(os.path.split(imagem_teste)[1].split('.')[0].replace('subject', ''))\n",
        "idcorreto"
      ],
      "metadata": {
        "colab": {
          "base_uri": "https://localhost:8080/"
        },
        "id": "Q7M26aroutQh",
        "outputId": "915e885f-0fca-4b5d-85e0-bc5a50c0b65a"
      },
      "execution_count": 81,
      "outputs": [
        {
          "output_type": "execute_result",
          "data": {
            "text/plain": [
              "11"
            ]
          },
          "metadata": {},
          "execution_count": 81
        }
      ]
    },
    {
      "cell_type": "code",
      "source": [
        "cv2.putText(imagem_np, 'P: ' + str(idprevisto), (20, 60), cv2.FONT_HERSHEY_COMPLEX_SMALL, 1, (0,255,0))\n",
        "cv2.putText(imagem_np, 'C: ' + str(idcorreto), (20, 80), cv2.FONT_HERSHEY_COMPLEX_SMALL, 1, (0,255,0))\n",
        "cv2_imshow(imagem_np)"
      ],
      "metadata": {
        "colab": {
          "base_uri": "https://localhost:8080/",
          "height": 260
        },
        "id": "4XaTtPtGu4h2",
        "outputId": "d9686f6e-f610-4624-85f7-a2d1c355f8b1"
      },
      "execution_count": 82,
      "outputs": [
        {
          "output_type": "display_data",
          "data": {
            "text/plain": [
              "<PIL.Image.Image image mode=L size=320x243 at 0x7FF58C631810>"
            ],
            "image/png": "[encoded data removed]"
          },
          "metadata": {}
        }
      ]
    },
    {
      "cell_type": "code",
      "source": [
        ""
      ],
      "metadata": {
        "id": "7OhrvvW-vBq3"
      },
      "execution_count": 82,
      "outputs": []
    }
  ]
}