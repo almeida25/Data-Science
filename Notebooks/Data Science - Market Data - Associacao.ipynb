{
 "cells": [
  {
   "cell_type": "markdown",
   "id": "c808180f",
   "metadata": {
    "ExecuteTime": {
     "end_time": "2022-07-12T23:01:02.359265Z",
     "start_time": "2022-07-12T23:01:02.347298Z"
    }
   },
   "source": [
    "# Importação das bibliotecas Básicas"
   ]
  },
  {
   "cell_type": "code",
   "execution_count": 14,
   "id": "340d2e1b",
   "metadata": {
    "ExecuteTime": {
     "end_time": "2022-07-12T23:06:48.358106Z",
     "start_time": "2022-07-12T23:06:48.343144Z"
    }
   },
   "outputs": [],
   "source": [
    "import pandas as pd\n",
    "import numpy as np\n",
    "import seaborn as sns\n",
    "import matplotlib.pyplot as plt\n",
    "import plotly.express as px\n",
    "from apyori import apriori"
   ]
  },
  {
   "cell_type": "markdown",
   "id": "179fddb4",
   "metadata": {},
   "source": [
    "# Exploração dos dados"
   ]
  },
  {
   "cell_type": "code",
   "execution_count": 16,
   "id": "78d51d37",
   "metadata": {
    "ExecuteTime": {
     "end_time": "2022-07-12T23:07:59.341708Z",
     "start_time": "2022-07-12T23:07:59.319767Z"
    }
   },
   "outputs": [],
   "source": [
    "base_mercado = pd.read_csv(r'C:\\Users\\brcalazans\\Desktop\\Pessoal\\Machine Learning e Data Science\\Bases de dados\\mercado.csv', header=None)"
   ]
  },
  {
   "cell_type": "code",
   "execution_count": 17,
   "id": "87855923",
   "metadata": {
    "ExecuteTime": {
     "end_time": "2022-07-12T23:07:59.686789Z",
     "start_time": "2022-07-12T23:07:59.667874Z"
    }
   },
   "outputs": [
    {
     "data": {
      "text/plain": [
       "(10, 4)"
      ]
     },
     "execution_count": 17,
     "metadata": {},
     "output_type": "execute_result"
    }
   ],
   "source": [
    "base_mercado.shape"
   ]
  },
  {
   "cell_type": "code",
   "execution_count": 18,
   "id": "a67ef8c0",
   "metadata": {
    "ExecuteTime": {
     "end_time": "2022-07-12T23:07:59.875288Z",
     "start_time": "2022-07-12T23:07:59.853382Z"
    }
   },
   "outputs": [
    {
     "data": {
      "text/html": [
       "<div>\n",
       "<style scoped>\n",
       "    .dataframe tbody tr th:only-of-type {\n",
       "        vertical-align: middle;\n",
       "    }\n",
       "\n",
       "    .dataframe tbody tr th {\n",
       "        vertical-align: top;\n",
       "    }\n",
       "\n",
       "    .dataframe thead th {\n",
       "        text-align: right;\n",
       "    }\n",
       "</style>\n",
       "<table border=\"1\" class=\"dataframe\">\n",
       "  <thead>\n",
       "    <tr style=\"text-align: right;\">\n",
       "      <th></th>\n",
       "      <th>0</th>\n",
       "      <th>1</th>\n",
       "      <th>2</th>\n",
       "      <th>3</th>\n",
       "    </tr>\n",
       "  </thead>\n",
       "  <tbody>\n",
       "    <tr>\n",
       "      <th>5</th>\n",
       "      <td>manteiga</td>\n",
       "      <td>NaN</td>\n",
       "      <td>NaN</td>\n",
       "      <td>NaN</td>\n",
       "    </tr>\n",
       "    <tr>\n",
       "      <th>6</th>\n",
       "      <td>pao</td>\n",
       "      <td>NaN</td>\n",
       "      <td>NaN</td>\n",
       "      <td>NaN</td>\n",
       "    </tr>\n",
       "    <tr>\n",
       "      <th>7</th>\n",
       "      <td>feijao</td>\n",
       "      <td>NaN</td>\n",
       "      <td>NaN</td>\n",
       "      <td>NaN</td>\n",
       "    </tr>\n",
       "    <tr>\n",
       "      <th>8</th>\n",
       "      <td>arroz</td>\n",
       "      <td>feijao</td>\n",
       "      <td>NaN</td>\n",
       "      <td>NaN</td>\n",
       "    </tr>\n",
       "    <tr>\n",
       "      <th>9</th>\n",
       "      <td>arroz</td>\n",
       "      <td>NaN</td>\n",
       "      <td>NaN</td>\n",
       "      <td>NaN</td>\n",
       "    </tr>\n",
       "  </tbody>\n",
       "</table>\n",
       "</div>"
      ],
      "text/plain": [
       "          0       1    2    3\n",
       "5  manteiga     NaN  NaN  NaN\n",
       "6       pao     NaN  NaN  NaN\n",
       "7    feijao     NaN  NaN  NaN\n",
       "8     arroz  feijao  NaN  NaN\n",
       "9     arroz     NaN  NaN  NaN"
      ]
     },
     "execution_count": 18,
     "metadata": {},
     "output_type": "execute_result"
    }
   ],
   "source": [
    "base_mercado.tail()"
   ]
  },
  {
   "cell_type": "code",
   "execution_count": 19,
   "id": "0d35f582",
   "metadata": {
    "ExecuteTime": {
     "end_time": "2022-07-12T23:08:00.583404Z",
     "start_time": "2022-07-12T23:08:00.546500Z"
    }
   },
   "outputs": [
    {
     "data": {
      "text/html": [
       "<div>\n",
       "<style scoped>\n",
       "    .dataframe tbody tr th:only-of-type {\n",
       "        vertical-align: middle;\n",
       "    }\n",
       "\n",
       "    .dataframe tbody tr th {\n",
       "        vertical-align: top;\n",
       "    }\n",
       "\n",
       "    .dataframe thead th {\n",
       "        text-align: right;\n",
       "    }\n",
       "</style>\n",
       "<table border=\"1\" class=\"dataframe\">\n",
       "  <thead>\n",
       "    <tr style=\"text-align: right;\">\n",
       "      <th></th>\n",
       "      <th>0</th>\n",
       "      <th>1</th>\n",
       "      <th>2</th>\n",
       "      <th>3</th>\n",
       "    </tr>\n",
       "  </thead>\n",
       "  <tbody>\n",
       "    <tr>\n",
       "      <th>count</th>\n",
       "      <td>10</td>\n",
       "      <td>5</td>\n",
       "      <td>4</td>\n",
       "      <td>2</td>\n",
       "    </tr>\n",
       "    <tr>\n",
       "      <th>unique</th>\n",
       "      <td>7</td>\n",
       "      <td>4</td>\n",
       "      <td>2</td>\n",
       "      <td>1</td>\n",
       "    </tr>\n",
       "    <tr>\n",
       "      <th>top</th>\n",
       "      <td>leite</td>\n",
       "      <td>pao</td>\n",
       "      <td>pao</td>\n",
       "      <td>manteiga</td>\n",
       "    </tr>\n",
       "    <tr>\n",
       "      <th>freq</th>\n",
       "      <td>2</td>\n",
       "      <td>2</td>\n",
       "      <td>2</td>\n",
       "      <td>2</td>\n",
       "    </tr>\n",
       "  </tbody>\n",
       "</table>\n",
       "</div>"
      ],
      "text/plain": [
       "            0    1    2         3\n",
       "count      10    5    4         2\n",
       "unique      7    4    2         1\n",
       "top     leite  pao  pao  manteiga\n",
       "freq        2    2    2         2"
      ]
     },
     "execution_count": 19,
     "metadata": {},
     "output_type": "execute_result"
    }
   ],
   "source": [
    "base_mercado.describe()"
   ]
  },
  {
   "cell_type": "code",
   "execution_count": 20,
   "id": "2bd3e8f1",
   "metadata": {
    "ExecuteTime": {
     "end_time": "2022-07-12T23:08:01.286525Z",
     "start_time": "2022-07-12T23:08:01.268574Z"
    }
   },
   "outputs": [
    {
     "data": {
      "text/html": [
       "<div>\n",
       "<style scoped>\n",
       "    .dataframe tbody tr th:only-of-type {\n",
       "        vertical-align: middle;\n",
       "    }\n",
       "\n",
       "    .dataframe tbody tr th {\n",
       "        vertical-align: top;\n",
       "    }\n",
       "\n",
       "    .dataframe thead th {\n",
       "        text-align: right;\n",
       "    }\n",
       "</style>\n",
       "<table border=\"1\" class=\"dataframe\">\n",
       "  <thead>\n",
       "    <tr style=\"text-align: right;\">\n",
       "      <th></th>\n",
       "      <th>0</th>\n",
       "      <th>1</th>\n",
       "      <th>2</th>\n",
       "      <th>3</th>\n",
       "    </tr>\n",
       "  </thead>\n",
       "  <tbody>\n",
       "    <tr>\n",
       "      <th>0</th>\n",
       "      <td>leite</td>\n",
       "      <td>cerveja</td>\n",
       "      <td>pao</td>\n",
       "      <td>manteiga</td>\n",
       "    </tr>\n",
       "    <tr>\n",
       "      <th>1</th>\n",
       "      <td>cafe</td>\n",
       "      <td>pao</td>\n",
       "      <td>manteiga</td>\n",
       "      <td>NaN</td>\n",
       "    </tr>\n",
       "    <tr>\n",
       "      <th>2</th>\n",
       "      <td>cafe</td>\n",
       "      <td>pao</td>\n",
       "      <td>manteiga</td>\n",
       "      <td>NaN</td>\n",
       "    </tr>\n",
       "    <tr>\n",
       "      <th>3</th>\n",
       "      <td>leite</td>\n",
       "      <td>cafe</td>\n",
       "      <td>pao</td>\n",
       "      <td>manteiga</td>\n",
       "    </tr>\n",
       "    <tr>\n",
       "      <th>4</th>\n",
       "      <td>cerveja</td>\n",
       "      <td>NaN</td>\n",
       "      <td>NaN</td>\n",
       "      <td>NaN</td>\n",
       "    </tr>\n",
       "    <tr>\n",
       "      <th>5</th>\n",
       "      <td>manteiga</td>\n",
       "      <td>NaN</td>\n",
       "      <td>NaN</td>\n",
       "      <td>NaN</td>\n",
       "    </tr>\n",
       "    <tr>\n",
       "      <th>6</th>\n",
       "      <td>pao</td>\n",
       "      <td>NaN</td>\n",
       "      <td>NaN</td>\n",
       "      <td>NaN</td>\n",
       "    </tr>\n",
       "    <tr>\n",
       "      <th>7</th>\n",
       "      <td>feijao</td>\n",
       "      <td>NaN</td>\n",
       "      <td>NaN</td>\n",
       "      <td>NaN</td>\n",
       "    </tr>\n",
       "    <tr>\n",
       "      <th>8</th>\n",
       "      <td>arroz</td>\n",
       "      <td>feijao</td>\n",
       "      <td>NaN</td>\n",
       "      <td>NaN</td>\n",
       "    </tr>\n",
       "    <tr>\n",
       "      <th>9</th>\n",
       "      <td>arroz</td>\n",
       "      <td>NaN</td>\n",
       "      <td>NaN</td>\n",
       "      <td>NaN</td>\n",
       "    </tr>\n",
       "  </tbody>\n",
       "</table>\n",
       "</div>"
      ],
      "text/plain": [
       "          0        1         2         3\n",
       "0     leite  cerveja       pao  manteiga\n",
       "1      cafe      pao  manteiga       NaN\n",
       "2      cafe      pao  manteiga       NaN\n",
       "3     leite     cafe       pao  manteiga\n",
       "4   cerveja      NaN       NaN       NaN\n",
       "5  manteiga      NaN       NaN       NaN\n",
       "6       pao      NaN       NaN       NaN\n",
       "7    feijao      NaN       NaN       NaN\n",
       "8     arroz   feijao       NaN       NaN\n",
       "9     arroz      NaN       NaN       NaN"
      ]
     },
     "execution_count": 20,
     "metadata": {},
     "output_type": "execute_result"
    }
   ],
   "source": [
    "base_mercado"
   ]
  },
  {
   "cell_type": "markdown",
   "id": "633b36f1",
   "metadata": {},
   "source": [
    "# Transformação dos Dados"
   ]
  },
  {
   "cell_type": "code",
   "execution_count": 39,
   "id": "8b5e05a1",
   "metadata": {
    "ExecuteTime": {
     "end_time": "2022-07-12T23:24:48.497469Z",
     "start_time": "2022-07-12T23:24:48.482506Z"
    },
    "scrolled": true
   },
   "outputs": [],
   "source": [
    "transacoes = []\n",
    "for i in range(len(base_mercado)):\n",
    "    transacoes.append([str(base_mercado.values[i, j]) for j in range(base_mercado.shape[1])])"
   ]
  },
  {
   "cell_type": "code",
   "execution_count": 40,
   "id": "b01d28d5",
   "metadata": {
    "ExecuteTime": {
     "end_time": "2022-07-12T23:24:48.677984Z",
     "start_time": "2022-07-12T23:24:48.664022Z"
    }
   },
   "outputs": [
    {
     "data": {
      "text/plain": [
       "[['leite', 'cerveja', 'pao', 'manteiga'],\n",
       " ['cafe', 'pao', 'manteiga', 'nan'],\n",
       " ['cafe', 'pao', 'manteiga', 'nan'],\n",
       " ['leite', 'cafe', 'pao', 'manteiga'],\n",
       " ['cerveja', 'nan', 'nan', 'nan'],\n",
       " ['manteiga', 'nan', 'nan', 'nan'],\n",
       " ['pao', 'nan', 'nan', 'nan'],\n",
       " ['feijao', 'nan', 'nan', 'nan'],\n",
       " ['arroz', 'feijao', 'nan', 'nan'],\n",
       " ['arroz', 'nan', 'nan', 'nan']]"
      ]
     },
     "execution_count": 40,
     "metadata": {},
     "output_type": "execute_result"
    }
   ],
   "source": [
    "transacoes"
   ]
  },
  {
   "cell_type": "code",
   "execution_count": 41,
   "id": "5731cae9",
   "metadata": {
    "ExecuteTime": {
     "end_time": "2022-07-12T23:24:48.846546Z",
     "start_time": "2022-07-12T23:24:48.829592Z"
    }
   },
   "outputs": [
    {
     "data": {
      "text/plain": [
       "list"
      ]
     },
     "execution_count": 41,
     "metadata": {},
     "output_type": "execute_result"
    }
   ],
   "source": [
    "type(transacoes)"
   ]
  },
  {
   "cell_type": "markdown",
   "id": "991aa677",
   "metadata": {},
   "source": [
    "# Apriori"
   ]
  },
  {
   "cell_type": "code",
   "execution_count": 49,
   "id": "50279ef5",
   "metadata": {
    "ExecuteTime": {
     "end_time": "2022-07-12T23:27:00.820719Z",
     "start_time": "2022-07-12T23:27:00.810742Z"
    }
   },
   "outputs": [],
   "source": [
    "regras = apriori(transacoes, min_support = 0.3, min_confidence = 0.8, min_lift=2)\n",
    "resultados = list(regras)"
   ]
  },
  {
   "cell_type": "code",
   "execution_count": 71,
   "id": "b2016844",
   "metadata": {
    "ExecuteTime": {
     "end_time": "2022-07-12T23:47:10.852633Z",
     "start_time": "2022-07-12T23:47:10.834682Z"
    }
   },
   "outputs": [
    {
     "data": {
      "text/plain": [
       "3"
      ]
     },
     "execution_count": 71,
     "metadata": {},
     "output_type": "execute_result"
    }
   ],
   "source": [
    "len(resultados)"
   ]
  },
  {
   "cell_type": "code",
   "execution_count": 51,
   "id": "fe0941c1",
   "metadata": {
    "ExecuteTime": {
     "end_time": "2022-07-12T23:27:01.394190Z",
     "start_time": "2022-07-12T23:27:01.377230Z"
    }
   },
   "outputs": [
    {
     "data": {
      "text/plain": [
       "[RelationRecord(items=frozenset({'cafe', 'manteiga'}), support=0.3, ordered_statistics=[OrderedStatistic(items_base=frozenset({'cafe'}), items_add=frozenset({'manteiga'}), confidence=1.0, lift=2.0)]),\n",
       " RelationRecord(items=frozenset({'cafe', 'pao'}), support=0.3, ordered_statistics=[OrderedStatistic(items_base=frozenset({'cafe'}), items_add=frozenset({'pao'}), confidence=1.0, lift=2.0)]),\n",
       " RelationRecord(items=frozenset({'cafe', 'manteiga', 'pao'}), support=0.3, ordered_statistics=[OrderedStatistic(items_base=frozenset({'cafe'}), items_add=frozenset({'manteiga', 'pao'}), confidence=1.0, lift=2.5), OrderedStatistic(items_base=frozenset({'cafe', 'manteiga'}), items_add=frozenset({'pao'}), confidence=1.0, lift=2.0), OrderedStatistic(items_base=frozenset({'cafe', 'pao'}), items_add=frozenset({'manteiga'}), confidence=1.0, lift=2.0)])]"
      ]
     },
     "execution_count": 51,
     "metadata": {},
     "output_type": "execute_result"
    }
   ],
   "source": [
    "resultados"
   ]
  },
  {
   "cell_type": "code",
   "execution_count": 53,
   "id": "4a469547",
   "metadata": {
    "ExecuteTime": {
     "end_time": "2022-07-12T23:27:41.880930Z",
     "start_time": "2022-07-12T23:27:41.858991Z"
    }
   },
   "outputs": [
    {
     "data": {
      "text/plain": [
       "RelationRecord(items=frozenset({'cafe', 'manteiga', 'pao'}), support=0.3, ordered_statistics=[OrderedStatistic(items_base=frozenset({'cafe'}), items_add=frozenset({'manteiga', 'pao'}), confidence=1.0, lift=2.5), OrderedStatistic(items_base=frozenset({'cafe', 'manteiga'}), items_add=frozenset({'pao'}), confidence=1.0, lift=2.0), OrderedStatistic(items_base=frozenset({'cafe', 'pao'}), items_add=frozenset({'manteiga'}), confidence=1.0, lift=2.0)])"
      ]
     },
     "execution_count": 53,
     "metadata": {},
     "output_type": "execute_result"
    }
   ],
   "source": [
    "resultados[2]"
   ]
  },
  {
   "cell_type": "markdown",
   "id": "771e2242",
   "metadata": {},
   "source": [
    "RelationRecord(items=frozenset({'cafe', 'manteiga', 'pao'}), support=0.3, ordered_statistics=[OrderedStatistic(items_base=frozenset({'cafe'}), items_add=frozenset({'manteiga', 'pao'}), confidence=1.0, lift=2.5), OrderedStatistic(items_base=frozenset({'cafe', 'manteiga'}), items_add=frozenset({'pao'}), confidence=1.0, lift=2.0), OrderedStatistic(items_base=frozenset({'cafe', 'pao'}), items_add=frozenset({'manteiga'}), confidence=1.0, lift=2.0)])"
   ]
  },
  {
   "cell_type": "code",
   "execution_count": 54,
   "id": "3a49eccc",
   "metadata": {
    "ExecuteTime": {
     "end_time": "2022-07-12T23:29:25.987297Z",
     "start_time": "2022-07-12T23:29:25.967348Z"
    }
   },
   "outputs": [
    {
     "data": {
      "text/plain": [
       "frozenset({'cafe', 'manteiga', 'pao'})"
      ]
     },
     "execution_count": 54,
     "metadata": {},
     "output_type": "execute_result"
    }
   ],
   "source": [
    "resultados[2][0]"
   ]
  },
  {
   "cell_type": "code",
   "execution_count": 55,
   "id": "4abb0a52",
   "metadata": {
    "ExecuteTime": {
     "end_time": "2022-07-12T23:29:40.577859Z",
     "start_time": "2022-07-12T23:29:40.558905Z"
    }
   },
   "outputs": [
    {
     "data": {
      "text/plain": [
       "0.3"
      ]
     },
     "execution_count": 55,
     "metadata": {},
     "output_type": "execute_result"
    }
   ],
   "source": [
    "resultados[2][1]"
   ]
  },
  {
   "cell_type": "code",
   "execution_count": 56,
   "id": "d780594e",
   "metadata": {
    "ExecuteTime": {
     "end_time": "2022-07-12T23:30:07.918302Z",
     "start_time": "2022-07-12T23:30:07.905341Z"
    }
   },
   "outputs": [
    {
     "data": {
      "text/plain": [
       "[OrderedStatistic(items_base=frozenset({'cafe'}), items_add=frozenset({'manteiga', 'pao'}), confidence=1.0, lift=2.5),\n",
       " OrderedStatistic(items_base=frozenset({'cafe', 'manteiga'}), items_add=frozenset({'pao'}), confidence=1.0, lift=2.0),\n",
       " OrderedStatistic(items_base=frozenset({'cafe', 'pao'}), items_add=frozenset({'manteiga'}), confidence=1.0, lift=2.0)]"
      ]
     },
     "execution_count": 56,
     "metadata": {},
     "output_type": "execute_result"
    }
   ],
   "source": [
    "r = resultados[2][2]\n",
    "r"
   ]
  },
  {
   "cell_type": "code",
   "execution_count": 57,
   "id": "8b77fa7d",
   "metadata": {
    "ExecuteTime": {
     "end_time": "2022-07-12T23:30:13.773443Z",
     "start_time": "2022-07-12T23:30:13.759479Z"
    }
   },
   "outputs": [
    {
     "data": {
      "text/plain": [
       "OrderedStatistic(items_base=frozenset({'cafe'}), items_add=frozenset({'manteiga', 'pao'}), confidence=1.0, lift=2.5)"
      ]
     },
     "execution_count": 57,
     "metadata": {},
     "output_type": "execute_result"
    }
   ],
   "source": [
    "r[0]"
   ]
  },
  {
   "cell_type": "code",
   "execution_count": 58,
   "id": "474e20be",
   "metadata": {
    "ExecuteTime": {
     "end_time": "2022-07-12T23:35:03.582174Z",
     "start_time": "2022-07-12T23:35:03.573198Z"
    }
   },
   "outputs": [
    {
     "data": {
      "text/plain": [
       "frozenset({'cafe', 'pao'})"
      ]
     },
     "execution_count": 58,
     "metadata": {},
     "output_type": "execute_result"
    }
   ],
   "source": [
    "r[2][0]"
   ]
  },
  {
   "cell_type": "code",
   "execution_count": 88,
   "id": "124781ac",
   "metadata": {
    "ExecuteTime": {
     "end_time": "2022-07-12T23:56:11.887715Z",
     "start_time": "2022-07-12T23:56:11.872752Z"
    }
   },
   "outputs": [],
   "source": [
    "A = []\n",
    "B = []\n",
    "suporte = []\n",
    "confianca = []\n",
    "lift = []\n",
    "\n",
    "for resultado in resultados:\n",
    "    #suporte.append(resultado[1])\n",
    "    s = resultado[1]\n",
    "    #print(s)\n",
    "    result_rules = resultado[2]\n",
    "    for result_rule in result_rules:\n",
    "        a = list(result_rule[0])\n",
    "        b = list(result_rule[1])\n",
    "        c = result_rule[2]\n",
    "        l = result_rule[3]\n",
    "        A.append(a)\n",
    "        B.append(b)\n",
    "        suporte.append(s)\n",
    "        confianca.append(c)\n",
    "        lift.append(l)"
   ]
  },
  {
   "cell_type": "code",
   "execution_count": 89,
   "id": "9d8b2a87",
   "metadata": {
    "ExecuteTime": {
     "end_time": "2022-07-12T23:56:14.120584Z",
     "start_time": "2022-07-12T23:56:14.097644Z"
    }
   },
   "outputs": [
    {
     "data": {
      "text/plain": [
       "[['cafe'], ['cafe'], ['cafe'], ['cafe', 'manteiga'], ['cafe', 'pao']]"
      ]
     },
     "execution_count": 89,
     "metadata": {},
     "output_type": "execute_result"
    }
   ],
   "source": [
    "A"
   ]
  },
  {
   "cell_type": "code",
   "execution_count": 90,
   "id": "d6ec890c",
   "metadata": {
    "ExecuteTime": {
     "end_time": "2022-07-12T23:56:15.316271Z",
     "start_time": "2022-07-12T23:56:15.300315Z"
    }
   },
   "outputs": [
    {
     "data": {
      "text/plain": [
       "[['manteiga'], ['pao'], ['manteiga', 'pao'], ['pao'], ['manteiga']]"
      ]
     },
     "execution_count": 90,
     "metadata": {},
     "output_type": "execute_result"
    }
   ],
   "source": [
    "B"
   ]
  },
  {
   "cell_type": "code",
   "execution_count": 92,
   "id": "8e2316ce",
   "metadata": {
    "ExecuteTime": {
     "end_time": "2022-07-12T23:56:25.120214Z",
     "start_time": "2022-07-12T23:56:25.112235Z"
    }
   },
   "outputs": [
    {
     "data": {
      "text/plain": [
       "[0.3, 0.3, 0.3, 0.3, 0.3]"
      ]
     },
     "execution_count": 92,
     "metadata": {},
     "output_type": "execute_result"
    }
   ],
   "source": [
    "suporte"
   ]
  },
  {
   "cell_type": "code",
   "execution_count": 93,
   "id": "ef2a52d5",
   "metadata": {
    "ExecuteTime": {
     "end_time": "2022-07-12T23:56:28.414329Z",
     "start_time": "2022-07-12T23:56:28.404351Z"
    }
   },
   "outputs": [
    {
     "data": {
      "text/plain": [
       "[1.0, 1.0, 1.0, 1.0, 1.0]"
      ]
     },
     "execution_count": 93,
     "metadata": {},
     "output_type": "execute_result"
    }
   ],
   "source": [
    "confianca"
   ]
  },
  {
   "cell_type": "code",
   "execution_count": 94,
   "id": "8070b828",
   "metadata": {
    "ExecuteTime": {
     "end_time": "2022-07-12T23:56:33.106883Z",
     "start_time": "2022-07-12T23:56:33.097906Z"
    }
   },
   "outputs": [
    {
     "data": {
      "text/plain": [
       "[2.0, 2.0, 2.5, 2.0, 2.0]"
      ]
     },
     "execution_count": 94,
     "metadata": {},
     "output_type": "execute_result"
    }
   ],
   "source": [
    "lift"
   ]
  },
  {
   "cell_type": "code",
   "execution_count": 95,
   "id": "d2ed1619",
   "metadata": {
    "ExecuteTime": {
     "end_time": "2022-07-12T23:57:39.737333Z",
     "start_time": "2022-07-12T23:57:39.642568Z"
    }
   },
   "outputs": [],
   "source": [
    "rules_df = pd.DataFrame({'A': A, 'B': B, 'Suporte': suporte, 'Confianca': confianca, 'Lift': lift})"
   ]
  },
  {
   "cell_type": "code",
   "execution_count": 97,
   "id": "306575b9",
   "metadata": {
    "ExecuteTime": {
     "end_time": "2022-07-12T23:58:30.520740Z",
     "start_time": "2022-07-12T23:58:30.413929Z"
    }
   },
   "outputs": [
    {
     "data": {
      "text/html": [
       "<div>\n",
       "<style scoped>\n",
       "    .dataframe tbody tr th:only-of-type {\n",
       "        vertical-align: middle;\n",
       "    }\n",
       "\n",
       "    .dataframe tbody tr th {\n",
       "        vertical-align: top;\n",
       "    }\n",
       "\n",
       "    .dataframe thead th {\n",
       "        text-align: right;\n",
       "    }\n",
       "</style>\n",
       "<table border=\"1\" class=\"dataframe\">\n",
       "  <thead>\n",
       "    <tr style=\"text-align: right;\">\n",
       "      <th></th>\n",
       "      <th>A</th>\n",
       "      <th>B</th>\n",
       "      <th>Suporte</th>\n",
       "      <th>Confianca</th>\n",
       "      <th>Lift</th>\n",
       "    </tr>\n",
       "  </thead>\n",
       "  <tbody>\n",
       "    <tr>\n",
       "      <th>2</th>\n",
       "      <td>[cafe]</td>\n",
       "      <td>[manteiga, pao]</td>\n",
       "      <td>0.3</td>\n",
       "      <td>1.0</td>\n",
       "      <td>2.5</td>\n",
       "    </tr>\n",
       "    <tr>\n",
       "      <th>0</th>\n",
       "      <td>[cafe]</td>\n",
       "      <td>[manteiga]</td>\n",
       "      <td>0.3</td>\n",
       "      <td>1.0</td>\n",
       "      <td>2.0</td>\n",
       "    </tr>\n",
       "    <tr>\n",
       "      <th>1</th>\n",
       "      <td>[cafe]</td>\n",
       "      <td>[pao]</td>\n",
       "      <td>0.3</td>\n",
       "      <td>1.0</td>\n",
       "      <td>2.0</td>\n",
       "    </tr>\n",
       "    <tr>\n",
       "      <th>3</th>\n",
       "      <td>[cafe, manteiga]</td>\n",
       "      <td>[pao]</td>\n",
       "      <td>0.3</td>\n",
       "      <td>1.0</td>\n",
       "      <td>2.0</td>\n",
       "    </tr>\n",
       "    <tr>\n",
       "      <th>4</th>\n",
       "      <td>[cafe, pao]</td>\n",
       "      <td>[manteiga]</td>\n",
       "      <td>0.3</td>\n",
       "      <td>1.0</td>\n",
       "      <td>2.0</td>\n",
       "    </tr>\n",
       "  </tbody>\n",
       "</table>\n",
       "</div>"
      ],
      "text/plain": [
       "                  A                B  Suporte  Confianca  Lift\n",
       "2            [cafe]  [manteiga, pao]      0.3        1.0   2.5\n",
       "0            [cafe]       [manteiga]      0.3        1.0   2.0\n",
       "1            [cafe]            [pao]      0.3        1.0   2.0\n",
       "3  [cafe, manteiga]            [pao]      0.3        1.0   2.0\n",
       "4       [cafe, pao]       [manteiga]      0.3        1.0   2.0"
      ]
     },
     "execution_count": 97,
     "metadata": {},
     "output_type": "execute_result"
    }
   ],
   "source": [
    "rules_df.sort_values(by='Lift', ascending=False)"
   ]
  },
  {
   "cell_type": "markdown",
   "id": "556496c7",
   "metadata": {},
   "source": [
    "# ECLAT"
   ]
  },
  {
   "cell_type": "code",
   "execution_count": 98,
   "id": "6fec4f31",
   "metadata": {
    "ExecuteTime": {
     "end_time": "2022-07-13T01:06:07.964767Z",
     "start_time": "2022-07-13T01:06:07.883899Z"
    }
   },
   "outputs": [
    {
     "data": {
      "text/html": [
       "<div>\n",
       "<style scoped>\n",
       "    .dataframe tbody tr th:only-of-type {\n",
       "        vertical-align: middle;\n",
       "    }\n",
       "\n",
       "    .dataframe tbody tr th {\n",
       "        vertical-align: top;\n",
       "    }\n",
       "\n",
       "    .dataframe thead th {\n",
       "        text-align: right;\n",
       "    }\n",
       "</style>\n",
       "<table border=\"1\" class=\"dataframe\">\n",
       "  <thead>\n",
       "    <tr style=\"text-align: right;\">\n",
       "      <th></th>\n",
       "      <th>0</th>\n",
       "      <th>1</th>\n",
       "      <th>2</th>\n",
       "      <th>3</th>\n",
       "    </tr>\n",
       "  </thead>\n",
       "  <tbody>\n",
       "    <tr>\n",
       "      <th>0</th>\n",
       "      <td>leite</td>\n",
       "      <td>cerveja</td>\n",
       "      <td>pao</td>\n",
       "      <td>manteiga</td>\n",
       "    </tr>\n",
       "    <tr>\n",
       "      <th>1</th>\n",
       "      <td>cafe</td>\n",
       "      <td>pao</td>\n",
       "      <td>manteiga</td>\n",
       "      <td>NaN</td>\n",
       "    </tr>\n",
       "    <tr>\n",
       "      <th>2</th>\n",
       "      <td>cafe</td>\n",
       "      <td>pao</td>\n",
       "      <td>manteiga</td>\n",
       "      <td>NaN</td>\n",
       "    </tr>\n",
       "    <tr>\n",
       "      <th>3</th>\n",
       "      <td>leite</td>\n",
       "      <td>cafe</td>\n",
       "      <td>pao</td>\n",
       "      <td>manteiga</td>\n",
       "    </tr>\n",
       "    <tr>\n",
       "      <th>4</th>\n",
       "      <td>cerveja</td>\n",
       "      <td>NaN</td>\n",
       "      <td>NaN</td>\n",
       "      <td>NaN</td>\n",
       "    </tr>\n",
       "    <tr>\n",
       "      <th>5</th>\n",
       "      <td>manteiga</td>\n",
       "      <td>NaN</td>\n",
       "      <td>NaN</td>\n",
       "      <td>NaN</td>\n",
       "    </tr>\n",
       "    <tr>\n",
       "      <th>6</th>\n",
       "      <td>pao</td>\n",
       "      <td>NaN</td>\n",
       "      <td>NaN</td>\n",
       "      <td>NaN</td>\n",
       "    </tr>\n",
       "    <tr>\n",
       "      <th>7</th>\n",
       "      <td>feijao</td>\n",
       "      <td>NaN</td>\n",
       "      <td>NaN</td>\n",
       "      <td>NaN</td>\n",
       "    </tr>\n",
       "    <tr>\n",
       "      <th>8</th>\n",
       "      <td>arroz</td>\n",
       "      <td>feijao</td>\n",
       "      <td>NaN</td>\n",
       "      <td>NaN</td>\n",
       "    </tr>\n",
       "    <tr>\n",
       "      <th>9</th>\n",
       "      <td>arroz</td>\n",
       "      <td>NaN</td>\n",
       "      <td>NaN</td>\n",
       "      <td>NaN</td>\n",
       "    </tr>\n",
       "  </tbody>\n",
       "</table>\n",
       "</div>"
      ],
      "text/plain": [
       "          0        1         2         3\n",
       "0     leite  cerveja       pao  manteiga\n",
       "1      cafe      pao  manteiga       NaN\n",
       "2      cafe      pao  manteiga       NaN\n",
       "3     leite     cafe       pao  manteiga\n",
       "4   cerveja      NaN       NaN       NaN\n",
       "5  manteiga      NaN       NaN       NaN\n",
       "6       pao      NaN       NaN       NaN\n",
       "7    feijao      NaN       NaN       NaN\n",
       "8     arroz   feijao       NaN       NaN\n",
       "9     arroz      NaN       NaN       NaN"
      ]
     },
     "execution_count": 98,
     "metadata": {},
     "output_type": "execute_result"
    }
   ],
   "source": [
    "base_mercado"
   ]
  },
  {
   "cell_type": "code",
   "execution_count": 99,
   "id": "4ee1cd79",
   "metadata": {
    "ExecuteTime": {
     "end_time": "2022-07-13T01:10:18.445365Z",
     "start_time": "2022-07-13T01:10:18.333796Z"
    }
   },
   "outputs": [],
   "source": [
    "from pyECLAT import ECLAT\n",
    "eclat = ECLAT(data=base_mercado)"
   ]
  },
  {
   "cell_type": "code",
   "execution_count": 101,
   "id": "1f82194c",
   "metadata": {
    "ExecuteTime": {
     "end_time": "2022-07-13T01:10:27.167400Z",
     "start_time": "2022-07-13T01:10:27.142469Z"
    }
   },
   "outputs": [
    {
     "data": {
      "text/html": [
       "<div>\n",
       "<style scoped>\n",
       "    .dataframe tbody tr th:only-of-type {\n",
       "        vertical-align: middle;\n",
       "    }\n",
       "\n",
       "    .dataframe tbody tr th {\n",
       "        vertical-align: top;\n",
       "    }\n",
       "\n",
       "    .dataframe thead th {\n",
       "        text-align: right;\n",
       "    }\n",
       "</style>\n",
       "<table border=\"1\" class=\"dataframe\">\n",
       "  <thead>\n",
       "    <tr style=\"text-align: right;\">\n",
       "      <th></th>\n",
       "      <th>pao</th>\n",
       "      <th>manteiga</th>\n",
       "      <th>leite</th>\n",
       "      <th>cerveja</th>\n",
       "      <th>cafe</th>\n",
       "      <th>feijao</th>\n",
       "      <th>arroz</th>\n",
       "    </tr>\n",
       "  </thead>\n",
       "  <tbody>\n",
       "    <tr>\n",
       "      <th>0</th>\n",
       "      <td>1</td>\n",
       "      <td>1</td>\n",
       "      <td>1</td>\n",
       "      <td>1</td>\n",
       "      <td>0</td>\n",
       "      <td>0</td>\n",
       "      <td>0</td>\n",
       "    </tr>\n",
       "    <tr>\n",
       "      <th>1</th>\n",
       "      <td>1</td>\n",
       "      <td>1</td>\n",
       "      <td>0</td>\n",
       "      <td>0</td>\n",
       "      <td>1</td>\n",
       "      <td>0</td>\n",
       "      <td>0</td>\n",
       "    </tr>\n",
       "    <tr>\n",
       "      <th>2</th>\n",
       "      <td>1</td>\n",
       "      <td>1</td>\n",
       "      <td>0</td>\n",
       "      <td>0</td>\n",
       "      <td>1</td>\n",
       "      <td>0</td>\n",
       "      <td>0</td>\n",
       "    </tr>\n",
       "    <tr>\n",
       "      <th>3</th>\n",
       "      <td>1</td>\n",
       "      <td>1</td>\n",
       "      <td>1</td>\n",
       "      <td>0</td>\n",
       "      <td>1</td>\n",
       "      <td>0</td>\n",
       "      <td>0</td>\n",
       "    </tr>\n",
       "    <tr>\n",
       "      <th>4</th>\n",
       "      <td>0</td>\n",
       "      <td>0</td>\n",
       "      <td>0</td>\n",
       "      <td>1</td>\n",
       "      <td>0</td>\n",
       "      <td>0</td>\n",
       "      <td>0</td>\n",
       "    </tr>\n",
       "    <tr>\n",
       "      <th>5</th>\n",
       "      <td>0</td>\n",
       "      <td>1</td>\n",
       "      <td>0</td>\n",
       "      <td>0</td>\n",
       "      <td>0</td>\n",
       "      <td>0</td>\n",
       "      <td>0</td>\n",
       "    </tr>\n",
       "    <tr>\n",
       "      <th>6</th>\n",
       "      <td>1</td>\n",
       "      <td>0</td>\n",
       "      <td>0</td>\n",
       "      <td>0</td>\n",
       "      <td>0</td>\n",
       "      <td>0</td>\n",
       "      <td>0</td>\n",
       "    </tr>\n",
       "    <tr>\n",
       "      <th>7</th>\n",
       "      <td>0</td>\n",
       "      <td>0</td>\n",
       "      <td>0</td>\n",
       "      <td>0</td>\n",
       "      <td>0</td>\n",
       "      <td>1</td>\n",
       "      <td>0</td>\n",
       "    </tr>\n",
       "    <tr>\n",
       "      <th>8</th>\n",
       "      <td>0</td>\n",
       "      <td>0</td>\n",
       "      <td>0</td>\n",
       "      <td>0</td>\n",
       "      <td>0</td>\n",
       "      <td>1</td>\n",
       "      <td>1</td>\n",
       "    </tr>\n",
       "    <tr>\n",
       "      <th>9</th>\n",
       "      <td>0</td>\n",
       "      <td>0</td>\n",
       "      <td>0</td>\n",
       "      <td>0</td>\n",
       "      <td>0</td>\n",
       "      <td>0</td>\n",
       "      <td>1</td>\n",
       "    </tr>\n",
       "  </tbody>\n",
       "</table>\n",
       "</div>"
      ],
      "text/plain": [
       "   pao  manteiga  leite  cerveja  cafe  feijao  arroz\n",
       "0    1         1      1        1     0       0      0\n",
       "1    1         1      0        0     1       0      0\n",
       "2    1         1      0        0     1       0      0\n",
       "3    1         1      1        0     1       0      0\n",
       "4    0         0      0        1     0       0      0\n",
       "5    0         1      0        0     0       0      0\n",
       "6    1         0      0        0     0       0      0\n",
       "7    0         0      0        0     0       1      0\n",
       "8    0         0      0        0     0       1      1\n",
       "9    0         0      0        0     0       0      1"
      ]
     },
     "execution_count": 101,
     "metadata": {},
     "output_type": "execute_result"
    }
   ],
   "source": [
    "eclat.df_bin"
   ]
  },
  {
   "cell_type": "code",
   "execution_count": 102,
   "id": "2b740cd6",
   "metadata": {
    "ExecuteTime": {
     "end_time": "2022-07-13T01:18:32.198855Z",
     "start_time": "2022-07-13T01:18:32.186887Z"
    }
   },
   "outputs": [
    {
     "data": {
      "text/plain": [
       "[nan, 'pao', 'manteiga', 'leite', 'cerveja', 'cafe', 'feijao', 'arroz']"
      ]
     },
     "execution_count": 102,
     "metadata": {},
     "output_type": "execute_result"
    }
   ],
   "source": [
    "eclat.uniq_"
   ]
  },
  {
   "cell_type": "code",
   "execution_count": 103,
   "id": "a9c1cf88",
   "metadata": {
    "ExecuteTime": {
     "end_time": "2022-07-13T01:19:26.292792Z",
     "start_time": "2022-07-13T01:19:25.972621Z"
    }
   },
   "outputs": [
    {
     "name": "stderr",
     "output_type": "stream",
     "text": [
      "3it [00:00, 34.57it/s]"
     ]
    },
    {
     "name": "stdout",
     "output_type": "stream",
     "text": [
      "Combination 1 by 1\n"
     ]
    },
    {
     "name": "stderr",
     "output_type": "stream",
     "text": [
      "\n",
      "3it [00:00, 100.27it/s]\n",
      "1it [00:00, 83.55it/s]"
     ]
    },
    {
     "name": "stdout",
     "output_type": "stream",
     "text": [
      "Combination 2 by 2\n",
      "Combination 3 by 3\n"
     ]
    },
    {
     "name": "stderr",
     "output_type": "stream",
     "text": [
      "\n"
     ]
    }
   ],
   "source": [
    "indices, suporte = eclat.fit(min_support=0.3, min_combination=1, max_combination=3)"
   ]
  },
  {
   "cell_type": "code",
   "execution_count": 104,
   "id": "6b58267f",
   "metadata": {
    "ExecuteTime": {
     "end_time": "2022-07-13T01:19:41.237347Z",
     "start_time": "2022-07-13T01:19:41.221390Z"
    }
   },
   "outputs": [
    {
     "data": {
      "text/plain": [
       "{'pao': [0, 1, 2, 3, 6],\n",
       " 'manteiga': [0, 1, 2, 3, 5],\n",
       " 'cafe': [1, 2, 3],\n",
       " 'pao & manteiga': [0, 1, 2, 3],\n",
       " 'pao & cafe': [1, 2, 3],\n",
       " 'manteiga & cafe': [1, 2, 3],\n",
       " 'pao & manteiga & cafe': [1, 2, 3]}"
      ]
     },
     "execution_count": 104,
     "metadata": {},
     "output_type": "execute_result"
    }
   ],
   "source": [
    "indices"
   ]
  },
  {
   "cell_type": "code",
   "execution_count": 105,
   "id": "95a82d81",
   "metadata": {
    "ExecuteTime": {
     "end_time": "2022-07-13T01:20:08.696448Z",
     "start_time": "2022-07-13T01:20:08.678493Z"
    }
   },
   "outputs": [
    {
     "data": {
      "text/plain": [
       "{'pao': 0.5,\n",
       " 'manteiga': 0.5,\n",
       " 'cafe': 0.3,\n",
       " 'pao & manteiga': 0.4,\n",
       " 'pao & cafe': 0.3,\n",
       " 'manteiga & cafe': 0.3,\n",
       " 'pao & manteiga & cafe': 0.3}"
      ]
     },
     "execution_count": 105,
     "metadata": {},
     "output_type": "execute_result"
    }
   ],
   "source": [
    "suporte"
   ]
  },
  {
   "cell_type": "code",
   "execution_count": null,
   "id": "bf210497",
   "metadata": {},
   "outputs": [],
   "source": []
  }
 ],
 "metadata": {
  "kernelspec": {
   "display_name": "Python 3 (ipykernel)",
   "language": "python",
   "name": "python3"
  },
  "language_info": {
   "codemirror_mode": {
    "name": "ipython",
    "version": 3
   },
   "file_extension": ".py",
   "mimetype": "text/x-python",
   "name": "python",
   "nbconvert_exporter": "python",
   "pygments_lexer": "ipython3",
   "version": "3.8.5"
  }
 },
 "nbformat": 4,
 "nbformat_minor": 5
}
