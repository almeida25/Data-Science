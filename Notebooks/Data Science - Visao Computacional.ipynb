{
 "cells": [
  {
   "cell_type": "markdown",
   "id": "0fd3544d",
   "metadata": {},
   "source": [
    "# Importação das bibliotecas Básicas"
   ]
  },
  {
   "cell_type": "code",
   "execution_count": 37,
   "id": "bb213911",
   "metadata": {
    "ExecuteTime": {
     "end_time": "2022-08-09T00:59:35.575050Z",
     "start_time": "2022-08-09T00:59:35.562085Z"
    }
   },
   "outputs": [],
   "source": [
    "import cv2 #OpenCV"
   ]
  },
  {
   "cell_type": "markdown",
   "id": "abbee71d",
   "metadata": {},
   "source": [
    "# Detecção de Faces"
   ]
  },
  {
   "cell_type": "code",
   "execution_count": 36,
   "id": "31571404",
   "metadata": {
    "ExecuteTime": {
     "end_time": "2022-08-09T00:59:08.109908Z",
     "start_time": "2022-08-09T00:59:08.030578Z"
    }
   },
   "outputs": [],
   "source": [
    "imagem = cv2.imread(r'C:\\Users\\brcalazans\\Desktop\\Pessoal\\Machine Learning e Data Science\\Imagens\\workplace-1245776_1920.jpg')"
   ]
  },
  {
   "cell_type": "code",
   "execution_count": 34,
   "id": "5fa8f330",
   "metadata": {
    "ExecuteTime": {
     "end_time": "2022-08-09T00:58:36.949173Z",
     "start_time": "2022-08-09T00:58:36.928229Z"
    }
   },
   "outputs": [
    {
     "ename": "error",
     "evalue": "OpenCV(4.6.0) :-1: error: (-5:Bad argument) in function 'imshow'\n> Overload resolution failed:\n>  - mat is not a numpy array, neither a scalar\n>  - Expected Ptr<cv::cuda::GpuMat> for argument 'mat'\n>  - Expected Ptr<cv::UMat> for argument 'mat'\n",
     "output_type": "error",
     "traceback": [
      "\u001b[1;31m---------------------------------------------------------------------------\u001b[0m",
      "\u001b[1;31merror\u001b[0m                                     Traceback (most recent call last)",
      "\u001b[1;32m~\\AppData\\Local\\Temp\\ipykernel_7584\\3336770226.py\u001b[0m in \u001b[0;36m<cell line: 1>\u001b[1;34m()\u001b[0m\n\u001b[1;32m----> 1\u001b[1;33m \u001b[0mcv2\u001b[0m\u001b[1;33m.\u001b[0m\u001b[0mimshow\u001b[0m\u001b[1;33m(\u001b[0m\u001b[1;34m''\u001b[0m\u001b[1;33m,\u001b[0m \u001b[1;34mr'C:\\Users\\brcalazans\\Desktop\\Pessoal\\Machine Learning e Data Science\\Imagens\\workplace-1245776_1920.jpg'\u001b[0m\u001b[1;33m)\u001b[0m\u001b[1;33m\u001b[0m\u001b[1;33m\u001b[0m\u001b[0m\n\u001b[0m\u001b[0;32m      2\u001b[0m \u001b[0mcv2\u001b[0m\u001b[1;33m.\u001b[0m\u001b[0mwaitKey\u001b[0m\u001b[1;33m(\u001b[0m\u001b[1;36m0\u001b[0m\u001b[1;33m)\u001b[0m\u001b[1;33m\u001b[0m\u001b[1;33m\u001b[0m\u001b[0m\n",
      "\u001b[1;31merror\u001b[0m: OpenCV(4.6.0) :-1: error: (-5:Bad argument) in function 'imshow'\n> Overload resolution failed:\n>  - mat is not a numpy array, neither a scalar\n>  - Expected Ptr<cv::cuda::GpuMat> for argument 'mat'\n>  - Expected Ptr<cv::UMat> for argument 'mat'\n"
     ]
    }
   ],
   "source": [
    "cv2.imshow('', r'C:\\Users\\brcalazans\\Desktop\\Pessoal\\Machine Learning e Data Science\\Imagens\\workplace-1245776_1920.jpg')"
   ]
  },
  {
   "cell_type": "code",
   "execution_count": null,
   "id": "4a3d0f5a",
   "metadata": {},
   "outputs": [],
   "source": []
  }
 ],
 "metadata": {
  "kernelspec": {
   "display_name": "Python 3 (ipykernel)",
   "language": "python",
   "name": "python3"
  },
  "language_info": {
   "codemirror_mode": {
    "name": "ipython",
    "version": 3
   },
   "file_extension": ".py",
   "mimetype": "text/x-python",
   "name": "python",
   "nbconvert_exporter": "python",
   "pygments_lexer": "ipython3",
   "version": "3.8.3"
  }
 },
 "nbformat": 4,
 "nbformat_minor": 5
}
